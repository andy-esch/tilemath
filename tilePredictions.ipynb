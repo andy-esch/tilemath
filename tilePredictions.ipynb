{
 "metadata": {
  "name": "",
  "signature": "sha256:eb2f341e64db10e60d1f8cd8369d8be0a518697b3ec4f95bfcd1610456f8c118"
 },
 "nbformat": 3,
 "nbformat_minor": 0,
 "worksheets": [
  {
   "cells": [
    {
     "cell_type": "heading",
     "level": 2,
     "metadata": {},
     "source": [
      "Predicting tile requests"
     ]
    },
    {
     "cell_type": "markdown",
     "metadata": {},
     "source": [
      "A browser window will have a set of tiles based on the size of the window. Since the tiles are 256 pixels by 256 pixels, a 1024x720 window will have four tiles in the long direction and almost three in the shorter direction. At any time, the window will have approximately twelve tiles on display. As the user pans the screen, more tiles are called to be displayed on the map.\n",
      "\n",
      "If we let $\\vec{x_{i}} = \\left(x_{i},y_{i}\\right)$ represent the coordinate of the center of the frame at time $i$, then the velocity at some later time $i+n$ will then be\n",
      "\n",
      "\\begin{equation}\n",
      "\\vec{v_{c}}\\,(i+n) = \\left(\\frac{x_{i+n} - x_{i}}{n},\\frac{y_{i+n} - y_{i}}{n}\\right)\n",
      "\\end{equation}\n",
      "\n",
      "Using this equation, estimates for future tile requests can be calculated by using the basic kinematic equation $x = v \\times t$.\n",
      "\n",
      "For some time interval $m$, we can predict the position of the center of frame as follows:\n",
      "\n",
      "\\begin{equation}\n",
      "\\vec{x_{c}}\\,(m+i) = \\vec{v_{c}}\\,\\left(i+n\\right) \\cdot m - \\vec{x_{c}}\\,(i)\n",
      "\\end{equation}\n",
      "\n",
      "Let's make a sample data set."
     ]
    },
    {
     "cell_type": "code",
     "collapsed": false,
     "input": [
      "# Initialize things\n",
      "%matplotlib inline\n",
      "import matplotlib.pyplot as plt\n",
      "import numpy as np\n",
      "from sklearn import datasets, linear_model\n",
      "\n",
      "# For turning trajectory into vector arrays\n",
      "def vectorize(arr):\n",
      "    \"\"\"\n",
      "        Input:\n",
      "            an array of length n, where n > 1\n",
      "        Returns:\n",
      "            an array of size n-1 of the length of vectors from arr[i] to arr[i+1]\n",
      "    \"\"\"\n",
      "    if len(arr) > 1:\n",
      "        return arr[1:] - arr[0:-1]\n",
      "    else:\n",
      "        return False\n",
      "\n",
      "# Define center-of-screen positions\n",
      "x = np.array([0,0.5,0.75,1,2,3,4])\n",
      "y = np.array([0,1,2,4.5,5,6,6])\n",
      "\n",
      "# Get vectors (change in position in a unit of time)\n",
      "U = vectorize(x)\n",
      "V = vectorize(y)\n",
      "\n",
      "plt.figure()\n",
      "ax = plt.gca()\n",
      "ax.plot(x,y,'ro')\n",
      "ax.quiver(x[:-1],y[:-1],U,V,angles='xy',scale_units='xy',scale=1)\n",
      "ax.set_xlim([-1,10])\n",
      "ax.set_ylim([-1,10])\n",
      "plt.title(\"Plot of movement of center of screen\")\n",
      "plt.ylabel(\"y position (latitude)\")\n",
      "plt.xlabel(\"x position (longitude)\")\n",
      "plt.draw()\n",
      "plt.show()"
     ],
     "language": "python",
     "metadata": {},
     "outputs": [
      {
       "metadata": {},
       "output_type": "display_data",
       "png": "[encoded data removed]",
       "text": [
        "<matplotlib.figure.Figure at 0x10b3b5ed0>"
       ]
      }
     ],
     "prompt_number": 2
    },
    {
     "cell_type": "markdown",
     "metadata": {},
     "source": [
      "The vectors that connect points are the simplest linear approximation to the movement of the center of screen. For computational purposes, it's a crude approximation and probably calculation intensive.\n",
      "\n",
      "A better approach would be doing linear approximations over specific time intervals. "
     ]
    },
    {
     "cell_type": "code",
     "collapsed": false,
     "input": [
      "# Sample every 2nd value\n",
      "x2 = x[::2]\n",
      "y2 = y[::2]\n",
      "\n",
      "U2 = vectorize(x2)\n",
      "V2 = vectorize(y2)\n",
      "\n",
      "plt.figure()\n",
      "ax = plt.gca()\n",
      "plt.plot(x2,y2,'o-')\n",
      "ax.quiver(x2[:-1],y2[:-1],U2,V2,angles='xy',scale_units='xy',scale=1)\n",
      "\n",
      "alpha = 2.3\n",
      "for i in range(len(x2)):\n",
      "    xtemp, ytemp = boundingBox(x2[i],y2[i],alpha,1.33*alpha);\n",
      "    plt.plot(xtemp,ytemp,'k-')\n",
      "\n",
      "ax.set_xlim([-1,10])\n",
      "ax.set_ylim([-1,10])\n",
      "plt.title(\"Sampling the data every other time interval\")\n",
      "plt.ylabel(\"y position (latitude)\")\n",
      "plt.xlabel(\"x position (longitude)\")\n",
      "plt.draw()\n",
      "plt.show()"
     ],
     "language": "python",
     "metadata": {},
     "outputs": [
      {
       "metadata": {},
       "output_type": "display_data",
       "png": "[encoded data removed]",
       "text": [
        "<matplotlib.figure.Figure at 0x10bb59a50>"
       ]
      }
     ],
     "prompt_number": 32
    },
    {
     "cell_type": "code",
     "collapsed": false,
     "input": [
      "def boundingBox(x0,y0,w,h):\n",
      "    # Will be a box of the window shape centered on the COS with width w and height h\n",
      "    x = np.array([x0-w/2.,x0-w/2.,x0+w/2.,x0+w/2.])\n",
      "    y = np.array([y0-h/2.,y0+h/2.,y0+h/2.,y0-h/2.])\n",
      "    return np.append(x,x[0]),np.append(y,y[0])"
     ],
     "language": "python",
     "metadata": {},
     "outputs": [],
     "prompt_number": 13
    },
    {
     "cell_type": "code",
     "collapsed": false,
     "input": [
      "regr = linear_model.LinearRegression()\n",
      "regr.fit(x2[:,np.newaxis],y2)\n",
      "print \"Coefficients: \\n\", regr.coef_\n",
      "print \"Variance score: %.2f\" % regr.score(x2[:,np.newaxis],y2)\n",
      "\n",
      "\n",
      "plt.figure()\n",
      "ax = plt.gca()\n",
      "plt.scatter(x2,y2,color='black')\n",
      "ax.quiver(x2[:-1],y2[:-1],U2,V2,angles='xy',scale_units='xy',scale=1)\n",
      "plt.plot(x2,regr.predict(x2[:,np.newaxis])-regr.intercept_,color='blue',linewidth=3)\n",
      "ax.set_xlim([-1,10])\n",
      "ax.set_ylim([-1,10])\n",
      "plt.title(\"Sampling the data every other time interval\")\n",
      "plt.ylabel(\"y position (latitude)\")\n",
      "plt.xlabel(\"x position (longitude)\")\n",
      "plt.draw()\n",
      "plt.show()"
     ],
     "language": "python",
     "metadata": {},
     "outputs": [
      {
       "output_type": "stream",
       "stream": "stdout",
       "text": [
        "Coefficients: \n",
        "[ 1.47870528]\n",
        "Variance score: 0.88\n"
       ]
      },
      {
       "metadata": {},
       "output_type": "display_data",
       "png": "[encoded data removed]",
       "text": [
        "<matplotlib.figure.Figure at 0x108206d50>"
       ]
      }
     ],
     "prompt_number": 4
    },
    {
     "cell_type": "code",
     "collapsed": false,
     "input": [
      "a = regr.score(x2[:,np.newaxis],y2)\n",
      "print a"
     ],
     "language": "python",
     "metadata": {},
     "outputs": [
      {
       "output_type": "stream",
       "stream": "stdout",
       "text": [
        "0.88153584065\n"
       ]
      }
     ],
     "prompt_number": 10
    },
    {
     "cell_type": "markdown",
     "metadata": {},
     "source": [
      "Here we are working towards a model of the form\n",
      "\n",
      "$$\n",
      "Y = \\left(m \\pm \\mu\\right) X + b \\pm \\beta\n",
      "$$\n",
      "\n",
      "where $\\mu$ and $\\delta$ are error terms from the linear fit matrix(?). This causes a light-cone-like prediction mechanism, as follows.\n",
      "\n",
      "The second example [here](http://matplotlib.org/users/recipes.html#fill-between-and-alpha) is what I am moving towards."
     ]
    },
    {
     "cell_type": "markdown",
     "metadata": {},
     "source": [
      "So given a series of data of the form x,y, what predictions can we make about which tiles should be requested next?\n",
      "\n",
      "1. Calculate m and b\n",
      "2. Calculate $\\mu$ and $\\beta$\n",
      "3. Choose a time interval $m$ for which to make predictions\n",
      "4. Choose different confidence intervals... $1\\sigma$, $2\\sigma$, etc.\n",
      "5. Grab tiles in the cone, prioritizing closer ones first\n",
      "6. Repeat"
     ]
    },
    {
     "cell_type": "code",
     "collapsed": false,
     "input": [],
     "language": "python",
     "metadata": {},
     "outputs": []
    }
   ],
   "metadata": {}
  }
 ]
}