{
 "metadata": {
  "name": "",
  "signature": "sha256:e24c35a8c85de1b8fb9e67173f4a9c5c0b1439f4709fcfd8339eff8f20e0c446"
 },
 "nbformat": 3,
 "nbformat_minor": 0,
 "worksheets": [
  {
   "cells": [
    {
     "cell_type": "heading",
     "level": 2,
     "metadata": {},
     "source": [
      "Predicting tile requests"
     ]
    },
    {
     "cell_type": "markdown",
     "metadata": {},
     "source": [
      "A browser window will have a set of tiles based on the size of the window. Since the tiles are 256 pixels by 256 pixels, a 1024x720 window will have four tiles in the long direction and almost three in the shorter direction. At any time, the window will have approximately twelve tiles on display. As the user pans the screen, more tiles are called to be displayed on the map.\n",
      "\n",
      "If we let $\\vec{x_{i}} = \\left(x_{i},y_{i}\\right)$ represent the coordinate of the center of the frame at time $i$, then the velocity at some later time $i+n$ will then be\n",
      "\n",
      "\\begin{equation}\n",
      "\\vec{v_{c}}\\,(i+n) = \\left(\\frac{x_{i+n} - x_{i}}{n},\\frac{y_{i+n} - y_{i}}{n}\\right)\n",
      "\\end{equation}\n",
      "\n",
      "Using this equation, estimates for future tile requests can be calculated by using the basic kinematic equation $x = v \\times t$:\n",
      "\n",
      "For some time interval $m$, we can predict the position of the center of frame as follows:\n",
      "\n",
      "\\begin{equation}\n",
      "\\vec{x_{c}}\\,(m+i) = \\vec{v_{c}}\\,\\left(i+n\\right) \\cdot m - \\vec{x_{c}}\\,(i)\n",
      "\\end{equation}\n",
      "\n",
      "Let's make a sample data set."
     ]
    },
    {
     "cell_type": "code",
     "collapsed": false,
     "input": [
      "# Initialize things\n",
      "%matplotlib inline\n",
      "import matplotlib.pyplot as plt\n",
      "import numpy as np\n",
      "from sklearn import datasets, linear_model\n",
      "\n",
      "# Turn coordinates into vector arrays\n",
      "def vectorize(arr):\n",
      "    return arr[1:] - arr[0:-1]\n",
      "\n",
      "# Define center-of-screen positions\n",
      "x = np.array([0,0,0,1,2,3,4])\n",
      "y = np.array([0,1,2,4,5,6,6])\n",
      "\n",
      "# Get vectors (change in position in a unit of time)\n",
      "U = vectorize(x)\n",
      "V = vectorize(y)\n",
      "\n",
      "plt.figure()\n",
      "ax = plt.gca()\n",
      "ax.plot(x,y,'ro')\n",
      "ax.quiver(x[:-1],y[:-1],U,V,angles='xy',scale_units='xy',scale=1)\n",
      "ax.set_xlim([-1,10])\n",
      "ax.set_ylim([-1,10])\n",
      "plt.title(\"Plot of movement of center of screen\")\n",
      "plt.ylabel(\"y position (latitude)\")\n",
      "plt.xlabel(\"x position (longitude)\")\n",
      "plt.draw()\n",
      "plt.show()"
     ],
     "language": "python",
     "metadata": {},
     "outputs": [
      {
       "metadata": {},
       "output_type": "display_data",
       "png": "[encoded data removed]",
       "text": [
        "<matplotlib.figure.Figure at 0x112918f90>"
       ]
      }
     ],
     "prompt_number": 37
    },
    {
     "cell_type": "markdown",
     "metadata": {},
     "source": [
      "The vectors that connect points are the simplest linear approximation to the movement of the center of screen. For computational purposes, it's a crude approximation and probably calculation intensive.\n",
      "\n",
      "A better approach would be doing linear approximations over specific time intervals. "
     ]
    },
    {
     "cell_type": "code",
     "collapsed": false,
     "input": [
      "# Sample every 2nd value\n",
      "x2 = x[::2]\n",
      "y2 = y[::2]\n",
      "\n",
      "U2 = vectorize(x2)\n",
      "V2 = vectorize(y2)\n",
      "\n",
      "plt.figure()\n",
      "ax = plt.gca()\n",
      "plt.plot(x2,y2,'o-')\n",
      "ax.quiver(x2[:-1],y2[:-1],U2,V2,angles='xy',scale_units='xy',scale=1)\n",
      "ax.set_xlim([-1,10])\n",
      "ax.set_ylim([-1,10])\n",
      "plt.title(\"Sampling the data every other time interval\")\n",
      "plt.ylabel(\"y position (latitude)\")\n",
      "plt.xlabel(\"x position (longitude)\")\n",
      "plt.draw()\n",
      "plt.show()"
     ],
     "language": "python",
     "metadata": {},
     "outputs": [
      {
       "metadata": {},
       "output_type": "display_data",
       "png": "[encoded data removed]",
       "text": [
        "<matplotlib.figure.Figure at 0x112b40950>"
       ]
      }
     ],
     "prompt_number": 32
    },
    {
     "cell_type": "code",
     "collapsed": false,
     "input": [
      "def boundingBox(x0,y0,w,h):\n",
      "    # Will be a box of the window shape centered on the COS with width w and height h\n",
      "    return true"
     ],
     "language": "python",
     "metadata": {},
     "outputs": [],
     "prompt_number": 35
    },
    {
     "cell_type": "code",
     "collapsed": false,
     "input": [
      "regr = linear_model.LinearRegression()\n",
      "regr.fit(x2[:,np.newaxis],y2)"
     ],
     "language": "python",
     "metadata": {},
     "outputs": [
      {
       "metadata": {},
       "output_type": "pyout",
       "prompt_number": 80,
       "text": [
        "LinearRegression(copy_X=True, fit_intercept=True, normalize=False)"
       ]
      }
     ],
     "prompt_number": 80
    },
    {
     "cell_type": "code",
     "collapsed": false,
     "input": [
      "print np.shape(x2)\n",
      "xs = np.empty((len(x2),1))\n",
      "print np.shape(xs)\n",
      "xs[:,0] = x2\n",
      "print xs\n",
      "regr.fit(xs,y2)\n",
      "print regr.coef_"
     ],
     "language": "python",
     "metadata": {},
     "outputs": [
      {
       "output_type": "stream",
       "stream": "stdout",
       "text": [
        "(4,)\n",
        "(4, 1)\n",
        "[[ 0.]\n",
        " [ 0.]\n",
        " [ 2.]\n",
        " [ 4.]]\n",
        "[ 1.31818182]\n"
       ]
      }
     ],
     "prompt_number": 77
    },
    {
     "cell_type": "code",
     "collapsed": false,
     "input": [
      "xt = x2[:,np.newaxis]"
     ],
     "language": "python",
     "metadata": {},
     "outputs": [
      {
       "metadata": {},
       "output_type": "pyout",
       "prompt_number": 79,
       "text": [
        "(4, 1)"
       ]
      }
     ],
     "prompt_number": 79
    },
    {
     "cell_type": "code",
     "collapsed": false,
     "input": [],
     "language": "python",
     "metadata": {},
     "outputs": []
    }
   ],
   "metadata": {}
  }
 ]
}