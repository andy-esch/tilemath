{
 "metadata": {
  "name": "",
  "signature": "sha256:605fb712de4371ae4bdcab3b4165d050af18d1b0949974b3615428537efd08b7"
 },
 "nbformat": 3,
 "nbformat_minor": 0,
 "worksheets": [
  {
   "cells": [
    {
     "cell_type": "markdown",
     "metadata": {},
     "source": [
      "A browser window will have a set of tiles based on the size of the window. Since the tiles are 256 pixels by 256 pixels, a 1024x720 window will have four tiles in the long direction and almost three in the shorter direction. At any time, the window will have approximately twelve tiles on display. As the user pans the screen, more tiles are called to be displayed on the map.\n",
      "\n",
      "If we let $\\vec{x_{i}} = \\left(x_{i},y_{i}\\right)$ represent the coordinate of the center of the frame at time $i$, then the velocity at some later time $i+n$ will then be\n",
      "\n",
      "\\begin{equation}\n",
      "\\vec{v_{c}}\\,(i,n) = \\left(\\frac{x_{i+n} - x_{i}}{n},\\frac{y_{i+n} - y_{i}}{n}\\right)\n",
      "\\end{equation}\n",
      "\n",
      "Using this equation, estimates for future tile requests can be calculated by using the basic kinematic equation $x = v \\times t$:\n",
      "\n",
      "For some time interval $m$, we can predict the position of the center of frame as follows:\n",
      "\n",
      "\\begin{equation}\n",
      "\\vec{x_{c}}\\,(m) = \\vec{v_{c}}\\,\\left(i,n\\right) \\cdot m - \\vec{x_{c}}\\,(i)\n",
      "\\end{equation}\n",
      "\n",
      "Let's make a sample data set."
     ]
    },
    {
     "cell_type": "code",
     "collapsed": false,
     "input": [
      "%matplotlib inline\n",
      "import matplotlib.pyplot as plt\n",
      "import numpy as np\n",
      "x = np.array([0,0,0,1,2,3])\n",
      "y = np.array([0,1,2,4,5,6])\n",
      "U = np.array([0,0,1,1,1,1])\n",
      "V = np.array([1,1,2,1,1,0])\n",
      "\n",
      "plt.figure()\n",
      "ax = plt.gca()\n",
      "ax.quiver(x,y,U,V,angles='xy',scale_units='xy',scale=1)\n",
      "ax.set_xlim([-1,10])\n",
      "ax.set_ylim([-1,10])\n",
      "plt.draw()\n",
      "plt.show()"
     ],
     "language": "python",
     "metadata": {},
     "outputs": [
      {
       "metadata": {},
       "output_type": "display_data",
       "png": "[encoded data removed]",
       "text": [
        "<matplotlib.figure.Figure at 0x108f97710>"
       ]
      }
     ],
     "prompt_number": 32
    },
    {
     "cell_type": "code",
     "collapsed": false,
     "input": [
      "plt.quiver?"
     ],
     "language": "python",
     "metadata": {},
     "outputs": [],
     "prompt_number": 23
    },
    {
     "cell_type": "code",
     "collapsed": false,
     "input": [],
     "language": "python",
     "metadata": {},
     "outputs": []
    }
   ],
   "metadata": {}
  }
 ]
}