{
 "metadata": {
  "name": "",
  "signature": "sha256:ea907a6bdf2ce7297bdded2780b8390a8b2fc222f3b6bba41c12f4bfec08a592"
 },
 "nbformat": 3,
 "nbformat_minor": 0,
 "worksheets": [
  {
   "cells": [
    {
     "cell_type": "heading",
     "level": 2,
     "metadata": {},
     "source": [
      "Trying to predict Lat/Long Map Center given an arbitrary set of points"
     ]
    },
    {
     "cell_type": "heading",
     "level": 3,
     "metadata": {},
     "source": [
      "Automatic center"
     ]
    },
    {
     "cell_type": "markdown",
     "metadata": {},
     "source": [
      "Using the lat and lon from a dataset, we can easily calculate the \"center of mass\" of the data. This would allow an automatic setView that goes to the lat/lon/zoom of an \"interesting\" view. Other improvements could weight columns differently to get to a more refined view of the map on first import. Users could also be presented with different zoom choices based on different weightings. These calculations will be generalized to other geometry types.\n",
      "\n",
      "We will use sample data from USGS."
     ]
    },
    {
     "cell_type": "code",
     "collapsed": false,
     "input": [
      "%pylab inline\n",
      "import pandas as pd"
     ],
     "language": "python",
     "metadata": {},
     "outputs": [
      {
       "output_type": "stream",
       "stream": "stdout",
       "text": [
        "Populating the interactive namespace from numpy and matplotlib\n"
       ]
      }
     ],
     "prompt_number": 53
    },
    {
     "cell_type": "code",
     "collapsed": false,
     "input": [
      "# Import earthquake data\n",
      "eq_month = pd.read_csv(\"http://andye.cartodb.com/api/v2/sql?format=CSV&q=SELECT%20*%20FROM%20all_month\")\n",
      "eq_month.head()"
     ],
     "language": "python",
     "metadata": {},
     "outputs": [
      {
       "html": [
        "<div style=\"max-height:1000px;max-width:1500px;overflow:auto;\">\n",
        "<table border=\"1\" class=\"dataframe\">\n",
        "  <thead>\n",
        "    <tr style=\"text-align: right;\">\n",
        "      <th></th>\n",
        "      <th>time</th>\n",
        "      <th>latitude</th>\n",
        "      <th>longitude</th>\n",
        "      <th>depth</th>\n",
        "      <th>mag</th>\n",
        "      <th>magtype</th>\n",
        "      <th>nst</th>\n",
        "      <th>gap</th>\n",
        "      <th>dmin</th>\n",
        "      <th>rms</th>\n",
        "      <th>net</th>\n",
        "      <th>id</th>\n",
        "      <th>updated</th>\n",
        "      <th>place</th>\n",
        "      <th>type</th>\n",
        "      <th>the_geom</th>\n",
        "      <th>cartodb_id</th>\n",
        "      <th>created_at</th>\n",
        "      <th>updated_at</th>\n",
        "      <th>the_geom_webmercator</th>\n",
        "    </tr>\n",
        "  </thead>\n",
        "  <tbody>\n",
        "    <tr>\n",
        "      <th>0</th>\n",
        "      <td> 2014-10-25 09:31:11+00</td>\n",
        "      <td> 65.1690</td>\n",
        "      <td>-149.0357</td>\n",
        "      <td> 14.0</td>\n",
        "      <td> 2.2</td>\n",
        "      <td> ml</td>\n",
        "      <td>NaN</td>\n",
        "      <td>   NaN</td>\n",
        "      <td>      NaN</td>\n",
        "      <td> 0.78</td>\n",
        "      <td> ak</td>\n",
        "      <td> ak11428354</td>\n",
        "      <td> 2014-10-31 21:53:43+00</td>\n",
        "      <td>    60km NW of Ester, Alaska</td>\n",
        "      <td> earthquake</td>\n",
        "      <td> 0101000020E6100000F38E537424A162C0894160E5D04A...</td>\n",
        "      <td> 1886</td>\n",
        "      <td> 2014-11-03 16:57:22.767697+00</td>\n",
        "      <td> 2014-11-03 16:57:22.767697+00</td>\n",
        "      <td> 0101000020110F000095157D47DEA46FC12A2E84896469...</td>\n",
        "    </tr>\n",
        "    <tr>\n",
        "      <th>1</th>\n",
        "      <td> 2014-10-22 07:08:28+00</td>\n",
        "      <td> 65.1352</td>\n",
        "      <td>-149.0290</td>\n",
        "      <td>  0.1</td>\n",
        "      <td> 0.8</td>\n",
        "      <td> ml</td>\n",
        "      <td>NaN</td>\n",
        "      <td>   NaN</td>\n",
        "      <td>      NaN</td>\n",
        "      <td> 0.68</td>\n",
        "      <td> ak</td>\n",
        "      <td> ak11425735</td>\n",
        "      <td> 2014-10-28 02:16:28+00</td>\n",
        "      <td>    57km NW of Ester, Alaska</td>\n",
        "      <td> earthquake</td>\n",
        "      <td> 0101000020E6100000B0726891EDA062C0D49AE61DA748...</td>\n",
        "      <td> 2871</td>\n",
        "      <td> 2014-11-03 16:57:22.767697+00</td>\n",
        "      <td> 2014-11-03 16:57:22.767697+00</td>\n",
        "      <td> 0101000020110F00001FFC960C81A46FC165E31F470565...</td>\n",
        "    </tr>\n",
        "    <tr>\n",
        "      <th>2</th>\n",
        "      <td> 2014-10-13 23:05:39+00</td>\n",
        "      <td> 64.9889</td>\n",
        "      <td>-147.3399</td>\n",
        "      <td>  0.0</td>\n",
        "      <td> 1.5</td>\n",
        "      <td> ml</td>\n",
        "      <td>NaN</td>\n",
        "      <td>   NaN</td>\n",
        "      <td>      NaN</td>\n",
        "      <td> 0.41</td>\n",
        "      <td> ak</td>\n",
        "      <td> ak11417698</td>\n",
        "      <td> 2014-10-17 17:35:26+00</td>\n",
        "      <td>  22km NNE of Badger, Alaska</td>\n",
        "      <td> earthquake</td>\n",
        "      <td> 0101000020E610000022FDF675E06A62C0ECC039234A3F...</td>\n",
        "      <td> 5276</td>\n",
        "      <td> 2014-11-03 16:57:22.767697+00</td>\n",
        "      <td> 2014-11-03 16:57:22.767697+00</td>\n",
        "      <td> 0101000020110F0000CD6D8754B1486FC16732850A2952...</td>\n",
        "    </tr>\n",
        "    <tr>\n",
        "      <th>3</th>\n",
        "      <td> 2014-10-24 06:22:52+00</td>\n",
        "      <td> 65.1743</td>\n",
        "      <td>-149.0450</td>\n",
        "      <td>  1.7</td>\n",
        "      <td> 0.9</td>\n",
        "      <td> ml</td>\n",
        "      <td>NaN</td>\n",
        "      <td>   NaN</td>\n",
        "      <td>      NaN</td>\n",
        "      <td> 0.51</td>\n",
        "      <td> ak</td>\n",
        "      <td> ak11427552</td>\n",
        "      <td> 2014-10-28 20:15:38+00</td>\n",
        "      <td>    60km NW of Ester, Alaska</td>\n",
        "      <td> earthquake</td>\n",
        "      <td> 0101000020E61000003D0AD7A370A162C057EC2FBB274B...</td>\n",
        "      <td> 2226</td>\n",
        "      <td> 2014-11-03 16:57:22.767697+00</td>\n",
        "      <td> 2014-11-03 16:57:22.767697+00</td>\n",
        "      <td> 0101000020110F000037482BB05FA56FC105C4F62B146A...</td>\n",
        "    </tr>\n",
        "    <tr>\n",
        "      <th>4</th>\n",
        "      <td> 2014-10-25 19:02:03+00</td>\n",
        "      <td> 19.9597</td>\n",
        "      <td>-155.3455</td>\n",
        "      <td> 12.0</td>\n",
        "      <td> 1.6</td>\n",
        "      <td> Md</td>\n",
        "      <td>NaN</td>\n",
        "      <td> 273.6</td>\n",
        "      <td> 0.071865</td>\n",
        "      <td> 0.16</td>\n",
        "      <td> hv</td>\n",
        "      <td> hv60794241</td>\n",
        "      <td> 2014-10-27 21:25:56+00</td>\n",
        "      <td> 19km SE of Honoka'a, Hawaii</td>\n",
        "      <td> earthquake</td>\n",
        "      <td> 0101000020E6100000931804560E6B63C0A1F831E6AEF5...</td>\n",
        "      <td> 1768</td>\n",
        "      <td> 2014-11-03 16:57:22.767697+00</td>\n",
        "      <td> 2014-11-03 16:57:22.767697+00</td>\n",
        "      <td> 0101000020110F0000FFFA4F5FEB7D70C1958584B9304E...</td>\n",
        "    </tr>\n",
        "  </tbody>\n",
        "</table>\n",
        "</div>"
       ],
       "metadata": {},
       "output_type": "pyout",
       "prompt_number": 3,
       "text": [
        "                     time  latitude  longitude  depth  mag magtype  nst  \\\n",
        "0  2014-10-25 09:31:11+00   65.1690  -149.0357   14.0  2.2      ml  NaN   \n",
        "1  2014-10-22 07:08:28+00   65.1352  -149.0290    0.1  0.8      ml  NaN   \n",
        "2  2014-10-13 23:05:39+00   64.9889  -147.3399    0.0  1.5      ml  NaN   \n",
        "3  2014-10-24 06:22:52+00   65.1743  -149.0450    1.7  0.9      ml  NaN   \n",
        "4  2014-10-25 19:02:03+00   19.9597  -155.3455   12.0  1.6      Md  NaN   \n",
        "\n",
        "     gap      dmin   rms net          id                 updated  \\\n",
        "0    NaN       NaN  0.78  ak  ak11428354  2014-10-31 21:53:43+00   \n",
        "1    NaN       NaN  0.68  ak  ak11425735  2014-10-28 02:16:28+00   \n",
        "2    NaN       NaN  0.41  ak  ak11417698  2014-10-17 17:35:26+00   \n",
        "3    NaN       NaN  0.51  ak  ak11427552  2014-10-28 20:15:38+00   \n",
        "4  273.6  0.071865  0.16  hv  hv60794241  2014-10-27 21:25:56+00   \n",
        "\n",
        "                         place        type  \\\n",
        "0     60km NW of Ester, Alaska  earthquake   \n",
        "1     57km NW of Ester, Alaska  earthquake   \n",
        "2   22km NNE of Badger, Alaska  earthquake   \n",
        "3     60km NW of Ester, Alaska  earthquake   \n",
        "4  19km SE of Honoka'a, Hawaii  earthquake   \n",
        "\n",
        "                                            the_geom  cartodb_id  \\\n",
        "0  0101000020E6100000F38E537424A162C0894160E5D04A...        1886   \n",
        "1  0101000020E6100000B0726891EDA062C0D49AE61DA748...        2871   \n",
        "2  0101000020E610000022FDF675E06A62C0ECC039234A3F...        5276   \n",
        "3  0101000020E61000003D0AD7A370A162C057EC2FBB274B...        2226   \n",
        "4  0101000020E6100000931804560E6B63C0A1F831E6AEF5...        1768   \n",
        "\n",
        "                      created_at                     updated_at  \\\n",
        "0  2014-11-03 16:57:22.767697+00  2014-11-03 16:57:22.767697+00   \n",
        "1  2014-11-03 16:57:22.767697+00  2014-11-03 16:57:22.767697+00   \n",
        "2  2014-11-03 16:57:22.767697+00  2014-11-03 16:57:22.767697+00   \n",
        "3  2014-11-03 16:57:22.767697+00  2014-11-03 16:57:22.767697+00   \n",
        "4  2014-11-03 16:57:22.767697+00  2014-11-03 16:57:22.767697+00   \n",
        "\n",
        "                                the_geom_webmercator  \n",
        "0  0101000020110F000095157D47DEA46FC12A2E84896469...  \n",
        "1  0101000020110F00001FFC960C81A46FC165E31F470565...  \n",
        "2  0101000020110F0000CD6D8754B1486FC16732850A2952...  \n",
        "3  0101000020110F000037482BB05FA56FC105C4F62B146A...  \n",
        "4  0101000020110F0000FFFA4F5FEB7D70C1958584B9304E...  "
       ]
      }
     ],
     "prompt_number": 3
    },
    {
     "cell_type": "markdown",
     "metadata": {},
     "source": [
      "First we need to transform our coordinates to a system without periodic boundary conditions to be able to find the average values. [This](http://en.wikipedia.org/wiki/Center_of_mass#Systems_with_periodic_boundary_conditions) Wikipedia page covers an algorithm for finding the center of \"mass\" in a coordinate system with periodic boundary conditions such as the ones used in mapping. In our case, we use a modified version since $-180 \\leq \\text{Long.} \\leq 180$. This is necessary because $-179^{\\circ}$  is very close to $179^{\\circ}$despite the range of $358^{\\circ}$ that would be calculated by finding the distance between these two coordinates. We will use the following mapping:\n",
      "\n",
      "\\begin{align}\n",
      "\\zeta &= \\sin\\left(\\text{Long}\\right) \\\\\n",
      "\\xi   &= \\cos\\left(\\text{Long}\\right)\n",
      "\\end{align}\n",
      "\n",
      "This transformation takes data from a line segment to a circular ring. We then need to find the mean of each of these values, $\\overline{\\zeta}$ and $\\overline{\\xi}$. $\\overline{\\zeta}$ and $\\overline{\\xi}$ represent two legs of a right triangle, so we can use `arctan2`, which preserves the sign of the inputs, to give us the proper angle subtended by these two values in the range $[-\\pi,\\pi]$, which can easily be converted to degrees."
     ]
    },
    {
     "cell_type": "code",
     "collapsed": false,
     "input": [
      "# Transformation functions\n",
      "def zeta(lon):\n",
      "    return np.sin(np.deg2rad(lon))\n",
      "\n",
      "def xi(lon):\n",
      "    return np.cos(np.deg2rad(lon))\n",
      "\n",
      "def com_longitude(lon_zeta,lon_xi):\n",
      "    return np.rad2deg(np.arctan2(lon_zeta,lon_xi))\n",
      "\n",
      "# Test function\n",
      "def test_transformation():\n",
      "    assert abs(zeta(90.) - 1.0) < 1.0e-5\n",
      "    assert abs(zeta(45.) - 1.0 / np.sqrt(2.)) < 1.0e-5\n",
      "    assert abs(xi(90.) - 0.0) < 1.0e-5\n",
      "    assert abs(zeta(45.) - xi(45.)) < 1.0e-5\n",
      "    assert abs(com_longitude(1.0,1.0) - 45.) < 1.0e-5\n",
      "    \n",
      "    return True\n",
      "    \n",
      "if test_transformation() == True:\n",
      "    print \"Test passed\"\n",
      "else:\n",
      "    print \"Test failed\""
     ],
     "language": "python",
     "metadata": {},
     "outputs": [
      {
       "output_type": "stream",
       "stream": "stdout",
       "text": [
        "Test passed\n"
       ]
      }
     ],
     "prompt_number": 54
    },
    {
     "cell_type": "code",
     "collapsed": false,
     "input": [
      "# Transform coordinate system to calculate center of \"mass\" of longtiude (since it has periodic boundary conditions)\n",
      "eq_month[\"lon_zeta\"] = zeta(eq_month[\"longitude\"])\n",
      "eq_month[\"lon_xi\"] = xi(eq_month[\"longitude\"])\n",
      "\n",
      "# Calculate mean of transformed coordinates\n",
      "com_lon_1 = eq_month[\"lon_zeta\"].mean()\n",
      "com_lon_2 = eq_month[\"lon_xi\"].mean()\n",
      "\n",
      "# Calculate center of \"mass\" of earthquake activity\n",
      "com_lon = com_longitude(com_lon_1,com_lon_2)\n",
      "com_lat = eq_month[\"latitude\"].mean()\n",
      "\n",
      "# Find max, min, std error of mean of latitude\n",
      "lat_max = eq_month.latitude.max()\n",
      "lat_min = eq_month.latitude.min()\n",
      "lat_std = eq_month.latitude.std() / np.sqrt(len(eq_month.longitude))\n",
      "\n",
      "# Find max, min, std error of mean of longitude\n",
      "lon_max = eq_month.longitude.max()\n",
      "lon_min = eq_month.longitude.min()\n",
      "lon_std = eq_month.longitude.std() / np.sqrt(len(eq_month.longitude))\n",
      "\n",
      "print \"Center of data: (Lon: %f, Lat: %f)\" % (com_lon, com_lat)\n",
      "print \"Longitude range: (%f, %f), with 95%% of data in (%f,%f)\" % (lon_min, lon_max, com_lon - 2. * lon_std, com_lon + 2. * lon_std)\n",
      "print \"Latitude range: (%f, %f), with 95%% of data in (%f,%f)\" % (lat_min, lat_max, com_lat-lat_std,com_lat+lat_std)"
     ],
     "language": "python",
     "metadata": {},
     "outputs": [
      {
       "output_type": "stream",
       "stream": "stdout",
       "text": [
        "Center of data: (Lon: -131.589049, Lat: 42.548522)\n",
        "Longitude range: (-179.923100, 179.969800), with 95% of data in (-133.013233,-130.164866)\n",
        "Latitude range: (-63.446000, 81.896200), with 95% of data in (42.337436,42.759609)\n"
       ]
      }
     ],
     "prompt_number": 55
    },
    {
     "cell_type": "code",
     "collapsed": false,
     "input": [
      "plt.hist(eq_month.longitude,weights=eq_month.mag);\n",
      "xlabel(\"Longitude earthquake occurred at\")\n",
      "ylabel(\"Number of recorded earthquakes\")\n",
      "title(\"Number of Eartquakes at different Longitude\")\n",
      "plt.figure();\n",
      "plt.hist(eq_month.latitude,weights=eq_month.mag);\n",
      "xlabel(\"Latitude earthquake occurred at\")\n",
      "ylabel(\"Number of recorded earthquakes\")\n",
      "title(\"Number of Eartquakes at different Latitude\")"
     ],
     "language": "python",
     "metadata": {},
     "outputs": [
      {
       "metadata": {},
       "output_type": "pyout",
       "prompt_number": 43,
       "text": [
        "<matplotlib.text.Text at 0x1183a0490>"
       ]
      },
      {
       "metadata": {},
       "output_type": "display_data",
       "png": "[encoded data removed]",
       "text": [
        "<matplotlib.figure.Figure at 0x11818add0>"
       ]
      },
      {
       "metadata": {},
       "output_type": "display_data",
       "png": "[encoded data removed]",
       "text": [
        "<matplotlib.figure.Figure at 0x1168b8c90>"
       ]
      }
     ],
     "prompt_number": 43
    },
    {
     "cell_type": "markdown",
     "metadata": {},
     "source": [
      "Finding the weighted center for latitude is simply:\n",
      "\n",
      "$$\n",
      "\\text{lat}_w = \\frac{\\sum_{i=0}^{N}w_i \\cdot \\text{lat}_{i}}{\\sum_{i=0}^{N} w_{i}}\n",
      "$$\n",
      "\n",
      "where the weight is a normalized column: $w_i = \\frac{x_{i}}{\\text{max}(x)}$\n",
      "\n",
      "Finding weighted longitude is similar to finding the center of \"mass\" as above. Instead of weighting the longitude directly, the transformed value will be weighted:\n",
      "\n",
      "$$\n",
      "\\zeta_w = \\frac{\\sum_{i=0}^{N}w_i \\cdot \\zeta_i}{\\sum_{i=0}^{N}w_i} \\\\\n",
      "\\xi_w = \\frac{\\sum_{i=0}^{N}w_i \\cdot \\xi_i}{\\sum_{i=0}^{N}w_i} \\\\\n",
      "\\text{long}_{w} = \\text{atan2}\\left(\\zeta_w,\\xi_w\\right)\n",
      "$$"
     ]
    },
    {
     "cell_type": "markdown",
     "metadata": {},
     "source": [
      "Next we can find the zoom based on a weight long/lat. We can weight by any numerical column by finding it's normalized value. Looking at the values below, magnitude is an obvious choice."
     ]
    },
    {
     "cell_type": "code",
     "collapsed": false,
     "input": [
      "w = eq_month.mag / eq_month.mag.max()\n",
      "w.head()"
     ],
     "language": "python",
     "metadata": {},
     "outputs": [
      {
       "metadata": {},
       "output_type": "pyout",
       "prompt_number": 10,
       "text": [
        "0    0.301370\n",
        "1    0.109589\n",
        "2    0.205479\n",
        "3    0.123288\n",
        "4    0.219178\n",
        "Name: mag, dtype: float64"
       ]
      }
     ],
     "prompt_number": 10
    },
    {
     "cell_type": "code",
     "collapsed": false,
     "input": [
      "w_zeta = np.dot(w,eq_month.lon_zeta) / sum(w)\n",
      "w_xi = np.dot(w,eq_month.lon_xi) / sum(w)\n",
      "w_lon = com_longitude(w_zeta,w_xi)\n",
      "\n",
      "w_lat = np.dot(eq_month.latitude,eq_month.mag) / sum(eq_month.mag)\n",
      "\n",
      "print \"Weighted Lat: %0.3f, Non-weighted Lat: %0.3f (Diff: %0.3f)\" % (w_lat,com_lat,w_lat-com_lat)\n",
      "print \"Weighted Lon: %0.3f, Non-weighted Lon: %0.3f (Diff: %0.3f)\" % (w_lon,com_lon,w_lon-com_lon)"
     ],
     "language": "python",
     "metadata": {},
     "outputs": [
      {
       "output_type": "stream",
       "stream": "stdout",
       "text": [
        "Weighted Lat: 36.257, Non-weighted Lat: 42.549 (Diff: -6.291)\n",
        "Weighted Lon: -134.778, Non-weighted Lon: -131.589 (Diff: -3.189)\n"
       ]
      }
     ],
     "prompt_number": 11
    },
    {
     "cell_type": "markdown",
     "metadata": {},
     "source": [
      "This results in a drift both South (by 6.291&deg;) and West (by 3.189&deg;).\n",
      "\n",
      "Using weights based on exponential of magnitude gives a smaller deviation for the longitude"
     ]
    },
    {
     "cell_type": "markdown",
     "metadata": {},
     "source": [
      "Weighting by magnitude as an exponent to 10 (since magnitude is a logarithmic scale) gives dramatically different results for the latitude but more marginal results for longitude for the current dataset. "
     ]
    },
    {
     "cell_type": "code",
     "collapsed": false,
     "input": [
      "w_exp = 10**(eq_month.mag) / 10**(max(eq_month.mag))\n",
      "\n",
      "w_exp_zeta = np.dot(w_exp,eq_month.lon_zeta) / sum(w_exp)\n",
      "w_exp_xi = np.dot(w_exp,eq_month.lon_xi) / sum(w_exp)\n",
      "w_exp_lon = com_longitude(w_exp_zeta,w_exp_xi)\n",
      "\n",
      "w_exp_lat = np.dot(eq_month.latitude,w_exp) / sum(w_exp)\n",
      "\n",
      "print \"Weighted Lat: %0.3f, Non-weighted Lat: %0.3f (Diff: %0.3f)\" % (w_exp_lat,com_lat,w_exp_lat-com_lat)\n",
      "print \"Weighted Lon: %0.3f, Non-weighted Lon: %0.3f (Diff: %0.3f)\" % (w_exp_lon,com_lon,w_exp_lon-com_lon)"
     ],
     "language": "python",
     "metadata": {},
     "outputs": [
      {
       "output_type": "stream",
       "stream": "stdout",
       "text": [
        "Weighted Lat: -2.403, Non-weighted Lat: 42.549 (Diff: -44.952)\n",
        "Weighted Lon: -131.931, Non-weighted Lon: -131.589 (Diff: -0.342)\n"
       ]
      }
     ],
     "prompt_number": 12
    },
    {
     "cell_type": "code",
     "collapsed": false,
     "input": [
      "from matplotlib.colors import LogNorm\n",
      "fig = plt.figure(figsize=(12, 9), dpi=80)\n",
      "ax = plt.hist2d(eq_month.longitude,eq_month.latitude,bins=[60,20],norm=LogNorm());\n",
      "axes().set_aspect('equal', 'datalim')\n",
      "\n",
      "plt.plot(com_lon,com_lat,'ro',ms=25,markerfacecolor='none')\n",
      "plt.plot(w_lon,w_lat,'go',ms=25,markerfacecolor='none')\n",
      "plt.plot(w_exp_lon,w_exp_lat,'bo',ms=25,markerfacecolor='none')\n",
      "#plt.legend(['Non-weighted COM','COM weighted by mag','COM weighted by exp mag'])\n",
      "\n",
      "plt.xlabel(\"Longitude\")\n",
      "plt.ylabel(\"Latitude\")\n",
      "cbar = plt.colorbar()\n",
      "cbar.ax.set_ylabel(\"Number of earthquakes\")\n",
      "title(\"2D Earthquake histogram and predicted centers of the map\")"
     ],
     "language": "python",
     "metadata": {},
     "outputs": [
      {
       "metadata": {},
       "output_type": "pyout",
       "prompt_number": 52,
       "text": [
        "<matplotlib.text.Text at 0x119e761d0>"
       ]
      },
      {
       "metadata": {},
       "output_type": "display_data",
       "png": "[encoded data removed]",
       "text": [
        "<matplotlib.figure.Figure at 0x1198235d0>"
       ]
      }
     ],
     "prompt_number": 52
    },
    {
     "cell_type": "heading",
     "level": 3,
     "metadata": {},
     "source": [
      "Predicting Zoom Levels"
     ]
    },
    {
     "cell_type": "markdown",
     "metadata": {},
     "source": [
      "At a specific zoom level, how many lat/lon degrees are in a tile? Longitude has a constant spacing across its range, but latitude lines get farther apart (per pixel) as one goes farther from the equator due to the [Mercator projection](http://wiki.openstreetmap.org/wiki/Slippy_map_tilenames#Derivation_of_tile_names) (e.g., 1 meter at the equator would be shown as 2 meters at 60&deg;N). In Mercator, \n",
      "\n",
      "$$y = \\text{arcsinh}(\\tan(\\text{lat})) = \\log\\left[\\tan(\\text{lat}) + \\sec(\\text{lat})\\right].$$\n",
      "\n",
      "Therefore, the following calculations for latitude are very roughly approximate.\n",
      "\n",
      "At zoom 0, one tile covers the earth.\n",
      "+ Long: 360 &deg; / 256 pixels $\\approx$ 1.40625&deg;/pixel (0.711 pixels/degree) or 360&deg;/tile longitude\n",
      "+ Lat: (2 * 85.0511) &deg;/256 pixels $\\approx$ 0.664&deg;/px (1.505 pxs/1&deg;) or 170.1022&deg;/tile\n",
      "\n",
      "At zoom 1, four tiles cover the earth.\n",
      "+ Long: 360 degrees / (512 pixels) $\\approx$ 0.703 deg/pix or 180&deg;/tile long.\n",
      "+ Lat: (2 * 85.0511) degrees / (512 pixels) $\\approx$ ... or 85.0511&deg;/tile lat.\n",
      "\n",
      "In general, at zoom $n$, there are\n",
      "\n",
      "$$\n",
      "\\frac{360^{\\circ}}{256\\,\\text{px}}\\cdot \\frac{1}{2^{n}} = \\frac{360^{\\circ}}{\\text{tile}}\\cdot \\frac{1}{2^{n}},\n",
      "$$\n",
      "\n",
      "or \n",
      "\n",
      "$$\n",
      "\\frac{2^{n}}{360}\n",
      "$$\n",
      "\n",
      "tiles per degree.\n",
      "\n",
      "This implies that\n",
      "\n",
      "$$\n",
      "\\text{1 tile} = \\frac{360^{\\circ}}{2^{n}}\\,\\,\\text{longitude}$$\n",
      "\n",
      "longitude, and \n",
      "\n",
      "$$\\text{1 tile} \\approx \\frac{85.0511^{\\circ}}{2^{n-1}}\\,\\,\\text{latitude}$$\n"
     ]
    },
    {
     "cell_type": "code",
     "collapsed": false,
     "input": [
      "def lat_width(zoom):\n",
      "    return 85.0511 / 2**(zoom-1)\n",
      "\n",
      "def lon_width(zoom):\n",
      "    return 360. / 2**zoom\n",
      "\n",
      "z = 7\n",
      "\n",
      "print \"At zoom %d, a tile will be %f by %f degrees squared.\" % (z, lon_width(z), lat_width(z))"
     ],
     "language": "python",
     "metadata": {},
     "outputs": [
      {
       "output_type": "stream",
       "stream": "stdout",
       "text": [
        "At zoom 7, a tile will be 2.812500 by 1.328923 degrees squared.\n"
       ]
      }
     ],
     "prompt_number": 39
    },
    {
     "cell_type": "markdown",
     "metadata": {},
     "source": [
      "Given a range in latitude or longitude, what is the zoom level that captures the features? Assumtions have to be made for screen size. In this case, assume that width is 1024 px and height is 768 px. This corresponds to four tiles for longitude and three for latitude.\n",
      "\n",
      "Solving for the zoom given the number of longitude tiles, $\\lambda$:\n",
      "\n",
      "$$\n",
      "    \\frac{\\lambda}{4} = \\frac{360^{\\circ}}{2^{n}}\n",
      "$$\n",
      "\n",
      "for $n$ gives,\n",
      "\n",
      "$$\n",
      "    n = \\lfloor\\ln\\left(\\frac{360^{\\circ}}{\\lambda}\\right) + 2 \\rfloor\n",
      "$$\n",
      "\n",
      "\n",
      "\n",
      "$$\n",
      "    \\frac{\\phi}{3} = \\frac{85.0511^{\\circ}}{2^{n-1}}\n",
      "$$\n",
      "\n",
      "Solving for $n$ for latitude gives,\n",
      "\n",
      "\\begin{align}\n",
      "    2^{n-1} &= \\frac{3\\cdot 85.0511^{\\circ}}{\\phi} \\\\\n",
      "    n - 1 &= \\ln\\left(\\frac{3\\cdot 85.0511^{\\circ}}{\\phi}\\right) \\\\\n",
      "    n &= \\lfloor\\ln\\left(\\frac{3\\cdot 85.0511^{\\circ}}{\\phi}\\right) + 1\\rfloor\n",
      "\\end{align}"
     ]
    },
    {
     "cell_type": "code",
     "collapsed": false,
     "input": [
      "lon_range = lon_max - lon_min\n",
      "print lon_range"
     ],
     "language": "python",
     "metadata": {},
     "outputs": [
      {
       "output_type": "stream",
       "stream": "stdout",
       "text": [
        "359.8929\n"
       ]
      }
     ],
     "prompt_number": 33
    },
    {
     "cell_type": "code",
     "collapsed": false,
     "input": [
      "def find_zoom_lon(r,n=4):\n",
      "    return np.floor(np.log2(360. * n / r))\n",
      "\n",
      "def find_zoom_lat(r,n=3):\n",
      "    return np.floor(np.log2(85.0511 * n / r) + 1.)"
     ],
     "language": "python",
     "metadata": {},
     "outputs": [],
     "prompt_number": 35
    },
    {
     "cell_type": "code",
     "collapsed": false,
     "input": [
      "print find_zoom_lon(80)\n",
      "print find_zoom_lat()"
     ],
     "language": "python",
     "metadata": {},
     "outputs": [
      {
       "output_type": "stream",
       "stream": "stdout",
       "text": [
        "4.0\n"
       ]
      }
     ],
     "prompt_number": 13
    },
    {
     "cell_type": "markdown",
     "metadata": {},
     "source": [
      "To test this out, you can make a page with a map set to the dimensions quoted. And then use JavaScript to do the calculations to figure out the zoom given the data set."
     ]
    },
    {
     "cell_type": "code",
     "collapsed": false,
     "input": [
      "print \"pxs\\tlon lat\"\n",
      "print \"---\\t--- ---\"\n",
      "for i in range(1,11):\n",
      "    print 36*i,'\\t',find_zoom_lon(36*i),find_zoom_lat(9*i)"
     ],
     "language": "python",
     "metadata": {},
     "outputs": [
      {
       "output_type": "stream",
       "stream": "stdout",
       "text": [
        "pxs\tlon lat\n",
        "---\t--- ---\n",
        "36 \t5.0 5.0\n",
        "72 \t4.0 4.0\n",
        "108 \t3.0 4.0\n",
        "144 \t3.0 3.0\n",
        "180 \t3.0 3.0\n",
        "216 \t2.0 3.0\n",
        "252 \t2.0 3.0\n",
        "288 \t2.0 2.0\n",
        "324 \t2.0 2.0\n",
        "360 \t2.0 2.0\n"
       ]
      }
     ],
     "prompt_number": 38
    },
    {
     "cell_type": "code",
     "collapsed": false,
     "input": [
      "h, bin_edges, patches = plt.hist(eq_month.longitude,weights=eq_month.mag);\n",
      "print h, bin_edges\n",
      "b2 = (bin_edges[:10] + bin_edges[1:]) / 2.\n",
      "N = len(hist)\n",
      "bottom = 8\n",
      "max_height = 4\n",
      "\n",
      "theta = b2\n",
      "radii = h\n",
      "width = (2*np.pi) / N\n",
      "\n",
      "ax = plt.subplot(111, polar=True)\n",
      "bars = ax.bar(theta, radii, width=width, bottom=bottom)\n",
      "\n",
      "# Use custom colors and opacity\n",
      "for r, bar in zip(radii, bars):\n",
      "    bar.set_facecolor(plt.cm.jet(r / 10.))\n",
      "    bar.set_alpha(0.8)\n",
      "\n",
      "plt.show()"
     ],
     "language": "python",
     "metadata": {},
     "outputs": [
      {
       "output_type": "stream",
       "stream": "stdout",
       "text": [
        "[ 4123.1   4519.16   881.1    785.8    514.3     82.9    139.1    331.2\n",
        "   631.1    738.3 ] [ -1.79923100e+02  -1.43933810e+02  -1.07944520e+02  -7.19552300e+01\n",
        "  -3.59659400e+01   2.33500000e-02   3.60126400e+01   7.20019300e+01\n",
        "   1.07991220e+02   1.43980510e+02   1.79969800e+02]\n"
       ]
      },
      {
       "ename": "TypeError",
       "evalue": "object of type 'function' has no len()",
       "output_type": "pyerr",
       "traceback": [
        "\u001b[0;31m---------------------------------------------------------------------------\u001b[0m\n\u001b[0;31mTypeError\u001b[0m                                 Traceback (most recent call last)",
        "\u001b[0;32m<ipython-input-18-522a7d5fe38d>\u001b[0m in \u001b[0;36m<module>\u001b[0;34m()\u001b[0m\n\u001b[1;32m      2\u001b[0m \u001b[0;32mprint\u001b[0m \u001b[0mh\u001b[0m\u001b[0;34m,\u001b[0m \u001b[0mbin_edges\u001b[0m\u001b[0;34m\u001b[0m\u001b[0m\n\u001b[1;32m      3\u001b[0m \u001b[0mb2\u001b[0m \u001b[0;34m=\u001b[0m \u001b[0;34m(\u001b[0m\u001b[0mbin_edges\u001b[0m\u001b[0;34m[\u001b[0m\u001b[0;34m:\u001b[0m\u001b[0;36m10\u001b[0m\u001b[0;34m]\u001b[0m \u001b[0;34m+\u001b[0m \u001b[0mbin_edges\u001b[0m\u001b[0;34m[\u001b[0m\u001b[0;36m1\u001b[0m\u001b[0;34m:\u001b[0m\u001b[0;34m]\u001b[0m\u001b[0;34m)\u001b[0m \u001b[0;34m/\u001b[0m \u001b[0;36m2.\u001b[0m\u001b[0;34m\u001b[0m\u001b[0m\n\u001b[0;32m----> 4\u001b[0;31m \u001b[0mN\u001b[0m \u001b[0;34m=\u001b[0m \u001b[0mlen\u001b[0m\u001b[0;34m(\u001b[0m\u001b[0mhist\u001b[0m\u001b[0;34m)\u001b[0m\u001b[0;34m\u001b[0m\u001b[0m\n\u001b[0m\u001b[1;32m      5\u001b[0m \u001b[0mbottom\u001b[0m \u001b[0;34m=\u001b[0m \u001b[0;36m8\u001b[0m\u001b[0;34m\u001b[0m\u001b[0m\n\u001b[1;32m      6\u001b[0m \u001b[0mmax_height\u001b[0m \u001b[0;34m=\u001b[0m \u001b[0;36m4\u001b[0m\u001b[0;34m\u001b[0m\u001b[0m\n",
        "\u001b[0;31mTypeError\u001b[0m: object of type 'function' has no len()"
       ]
      },
      {
       "metadata": {},
       "output_type": "display_data",
       "png": "[encoded data removed]",
       "text": [
        "<matplotlib.figure.Figure at 0x108671710>"
       ]
      }
     ],
     "prompt_number": 18
    },
    {
     "cell_type": "code",
     "collapsed": false,
     "input": [],
     "language": "python",
     "metadata": {},
     "outputs": []
    }
   ],
   "metadata": {}
  }
 ]
}