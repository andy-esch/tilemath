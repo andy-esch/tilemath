{
 "metadata": {
  "name": "",
  "signature": "sha256:1721dc3f2a0fe6232cb93c8feca5f70c26c5296af6558bd746b71abd9aa90061"
 },
 "nbformat": 3,
 "nbformat_minor": 0,
 "worksheets": [
  {
   "cells": [
    {
     "cell_type": "markdown",
     "metadata": {},
     "source": [
      "Using the lat and lon from a dataset, we can easily calculate the \"center of mass\" of the data. Other improvements could weight columns differently to get to a more refined view of the map on first import.\n",
      "\n",
      "We will use sample data from USGS."
     ]
    },
    {
     "cell_type": "code",
     "collapsed": false,
     "input": [
      "%pylab inline\n",
      "import json\n",
      "import pandas as pd"
     ],
     "language": "python",
     "metadata": {},
     "outputs": [
      {
       "output_type": "stream",
       "stream": "stdout",
       "text": [
        "Populating the interactive namespace from numpy and matplotlib\n"
       ]
      },
      {
       "output_type": "stream",
       "stream": "stderr",
       "text": [
        "WARNING: pylab import has clobbered these variables: ['bar', 'hist', 'test']\n",
        "`%matplotlib` prevents importing * from pylab and numpy\n"
       ]
      }
     ],
     "prompt_number": 234
    },
    {
     "cell_type": "code",
     "collapsed": false,
     "input": [
      "eq_month = pd.read_csv(\"http://documentation.cartodb.com/api/v2/sql?format=CSV&q=SELECT%20*%20FROM%20all_day_cdb_gu_l3\")\n",
      "eq_month.head()"
     ],
     "language": "python",
     "metadata": {},
     "outputs": [
      {
       "html": [
        "<div style=\"max-height:1000px;max-width:1500px;overflow:auto;\">\n",
        "<table border=\"1\" class=\"dataframe\">\n",
        "  <thead>\n",
        "    <tr style=\"text-align: right;\">\n",
        "      <th></th>\n",
        "      <th>the_geom</th>\n",
        "      <th>time</th>\n",
        "      <th>latitude</th>\n",
        "      <th>longitude</th>\n",
        "      <th>depth</th>\n",
        "      <th>mag</th>\n",
        "      <th>magtype</th>\n",
        "      <th>nst</th>\n",
        "      <th>gap</th>\n",
        "      <th>dmin</th>\n",
        "      <th>rms</th>\n",
        "      <th>net</th>\n",
        "      <th>id</th>\n",
        "      <th>updated</th>\n",
        "      <th>place</th>\n",
        "      <th>type</th>\n",
        "      <th>cartodb_id</th>\n",
        "      <th>created_at</th>\n",
        "      <th>updated_at</th>\n",
        "      <th>the_geom_webmercator</th>\n",
        "    </tr>\n",
        "  </thead>\n",
        "  <tbody>\n",
        "    <tr>\n",
        "      <th>0</th>\n",
        "      <td> 0101000020E6100000058195438B7E62C0656666666626...</td>\n",
        "      <td> 2014-10-13</td>\n",
        "      <td> 64.600000</td>\n",
        "      <td>-147.954500</td>\n",
        "      <td> 19.40</td>\n",
        "      <td> 0.60</td>\n",
        "      <td> ml</td>\n",
        "      <td>NaN</td>\n",
        "      <td> NaN</td>\n",
        "      <td>     NaN</td>\n",
        "      <td> 0.24</td>\n",
        "      <td> ak</td>\n",
        "      <td> ak11416865</td>\n",
        "      <td> 2014-10-13</td>\n",
        "      <td>              27km S of Ester, Alaska</td>\n",
        "      <td> earthquake</td>\n",
        "      <td> 22</td>\n",
        "      <td> 2014-10-13 00:00:00+00</td>\n",
        "      <td> 2014-10-13 00:00:00+00</td>\n",
        "      <td> 0101000020110F0000B0E53773196A6FC1051951BB8520...</td>\n",
        "    </tr>\n",
        "    <tr>\n",
        "      <th>1</th>\n",
        "      <td> 0101000020E6100000B324F6BF923F5EC0D183CCDFCE37...</td>\n",
        "      <td> 2014-10-13</td>\n",
        "      <td> 36.436001</td>\n",
        "      <td>-120.993332</td>\n",
        "      <td>  1.01</td>\n",
        "      <td> 1.79</td>\n",
        "      <td> md</td>\n",
        "      <td> 11</td>\n",
        "      <td> 128</td>\n",
        "      <td> 0.02366</td>\n",
        "      <td> 0.09</td>\n",
        "      <td> nc</td>\n",
        "      <td> nc72326376</td>\n",
        "      <td> 2014-10-13</td>\n",
        "      <td>   25km ENE of Greenfield, California</td>\n",
        "      <td> earthquake</td>\n",
        "      <td>  1</td>\n",
        "      <td> 2014-10-13 00:00:00+00</td>\n",
        "      <td> 2014-10-13 00:00:00+00</td>\n",
        "      <td> 0101000020110F00003C7116839EB069C1105EC25C93A2...</td>\n",
        "    </tr>\n",
        "    <tr>\n",
        "      <th>2</th>\n",
        "      <td> 0101000020E61000002A9908C0E4B35EC05520C4DF4067...</td>\n",
        "      <td> 2014-10-13</td>\n",
        "      <td> 38.806667</td>\n",
        "      <td>-122.810837</td>\n",
        "      <td>  2.63</td>\n",
        "      <td> 1.28</td>\n",
        "      <td> md</td>\n",
        "      <td> 29</td>\n",
        "      <td>  52</td>\n",
        "      <td> 0.01221</td>\n",
        "      <td> 0.02</td>\n",
        "      <td> nc</td>\n",
        "      <td> nc72326361</td>\n",
        "      <td> 2014-10-13</td>\n",
        "      <td>    5km NW of The Geysers, California</td>\n",
        "      <td> earthquake</td>\n",
        "      <td>  2</td>\n",
        "      <td> 2014-10-13 00:00:00+00</td>\n",
        "      <td> 2014-10-13 00:00:00+00</td>\n",
        "      <td> 0101000020110F0000838920FA68136AC1D708510200E8...</td>\n",
        "    </tr>\n",
        "    <tr>\n",
        "      <th>3</th>\n",
        "      <td> 0101000020E61000008251499D80F862C064AA6054529F...</td>\n",
        "      <td> 2014-10-13</td>\n",
        "      <td> 63.244700</td>\n",
        "      <td>-151.765700</td>\n",
        "      <td>  0.10</td>\n",
        "      <td> 2.20</td>\n",
        "      <td> ml</td>\n",
        "      <td>NaN</td>\n",
        "      <td> NaN</td>\n",
        "      <td>     NaN</td>\n",
        "      <td> 0.76</td>\n",
        "      <td> ak</td>\n",
        "      <td> ak11416981</td>\n",
        "      <td> 2014-10-13</td>\n",
        "      <td>        132km NW of Talkeetna, Alaska</td>\n",
        "      <td> earthquake</td>\n",
        "      <td>  3</td>\n",
        "      <td> 2014-10-13 00:00:00+00</td>\n",
        "      <td> 2014-10-13 00:00:00+00</td>\n",
        "      <td> 0101000020110F0000DD261A07A11C70C196EEA91EE778...</td>\n",
        "    </tr>\n",
        "    <tr>\n",
        "      <th>4</th>\n",
        "      <td> 0101000020E6100000BC5DE5BF76B25DC01CA0450081BD...</td>\n",
        "      <td> 2014-10-13</td>\n",
        "      <td> 37.480499</td>\n",
        "      <td>-118.788498</td>\n",
        "      <td>  6.70</td>\n",
        "      <td> 2.63</td>\n",
        "      <td> ml</td>\n",
        "      <td> 32</td>\n",
        "      <td>  69</td>\n",
        "      <td> 0.11400</td>\n",
        "      <td> 0.05</td>\n",
        "      <td> nc</td>\n",
        "      <td> nc72326351</td>\n",
        "      <td> 2014-10-13</td>\n",
        "      <td> 27km SE of Mammoth Lakes, California</td>\n",
        "      <td> earthquake</td>\n",
        "      <td>  4</td>\n",
        "      <td> 2014-10-13 00:00:00+00</td>\n",
        "      <td> 2014-10-13 00:00:00+00</td>\n",
        "      <td> 0101000020110F00003E7C2563C63869C1E3426DE0AD30...</td>\n",
        "    </tr>\n",
        "  </tbody>\n",
        "</table>\n",
        "</div>"
       ],
       "metadata": {},
       "output_type": "pyout",
       "prompt_number": 235,
       "text": [
        "                                            the_geom        time   latitude  \\\n",
        "0  0101000020E6100000058195438B7E62C0656666666626...  2014-10-13  64.600000   \n",
        "1  0101000020E6100000B324F6BF923F5EC0D183CCDFCE37...  2014-10-13  36.436001   \n",
        "2  0101000020E61000002A9908C0E4B35EC05520C4DF4067...  2014-10-13  38.806667   \n",
        "3  0101000020E61000008251499D80F862C064AA6054529F...  2014-10-13  63.244700   \n",
        "4  0101000020E6100000BC5DE5BF76B25DC01CA0450081BD...  2014-10-13  37.480499   \n",
        "\n",
        "    longitude  depth   mag magtype  nst  gap     dmin   rms net          id  \\\n",
        "0 -147.954500  19.40  0.60      ml  NaN  NaN      NaN  0.24  ak  ak11416865   \n",
        "1 -120.993332   1.01  1.79      md   11  128  0.02366  0.09  nc  nc72326376   \n",
        "2 -122.810837   2.63  1.28      md   29   52  0.01221  0.02  nc  nc72326361   \n",
        "3 -151.765700   0.10  2.20      ml  NaN  NaN      NaN  0.76  ak  ak11416981   \n",
        "4 -118.788498   6.70  2.63      ml   32   69  0.11400  0.05  nc  nc72326351   \n",
        "\n",
        "      updated                                 place        type  cartodb_id  \\\n",
        "0  2014-10-13               27km S of Ester, Alaska  earthquake          22   \n",
        "1  2014-10-13    25km ENE of Greenfield, California  earthquake           1   \n",
        "2  2014-10-13     5km NW of The Geysers, California  earthquake           2   \n",
        "3  2014-10-13         132km NW of Talkeetna, Alaska  earthquake           3   \n",
        "4  2014-10-13  27km SE of Mammoth Lakes, California  earthquake           4   \n",
        "\n",
        "               created_at              updated_at  \\\n",
        "0  2014-10-13 00:00:00+00  2014-10-13 00:00:00+00   \n",
        "1  2014-10-13 00:00:00+00  2014-10-13 00:00:00+00   \n",
        "2  2014-10-13 00:00:00+00  2014-10-13 00:00:00+00   \n",
        "3  2014-10-13 00:00:00+00  2014-10-13 00:00:00+00   \n",
        "4  2014-10-13 00:00:00+00  2014-10-13 00:00:00+00   \n",
        "\n",
        "                                the_geom_webmercator  \n",
        "0  0101000020110F0000B0E53773196A6FC1051951BB8520...  \n",
        "1  0101000020110F00003C7116839EB069C1105EC25C93A2...  \n",
        "2  0101000020110F0000838920FA68136AC1D708510200E8...  \n",
        "3  0101000020110F0000DD261A07A11C70C196EEA91EE778...  \n",
        "4  0101000020110F00003E7C2563C63869C1E3426DE0AD30...  "
       ]
      }
     ],
     "prompt_number": 235
    },
    {
     "cell_type": "markdown",
     "metadata": {},
     "source": [
      "First we need to transform our coordinates to a system without periodic boundary conditions to be able to find the average values. [This](http://en.wikipedia.org/wiki/Center_of_mass#Systems_with_periodic_boundary_conditions) Wikipedia page covers an algorithm for finding the center of \"mass\" in a coordinate system with periodic boundary conditions such as the ones used in mapping. In our case, we use a modified version since $-180 \\leq \\text{Long.} \\leq 180$. This is necessary because $-179^{\\circ}$  is very close to $179^{\\circ}$despite the range of $358^{\\circ}$.  We will use the following mapping:\n",
      "\n",
      "\\begin{align}\n",
      "\\zeta &= \\sin\\left(\\text{Long}\\right) \\\\\n",
      "\\xi   &= \\cos\\left(\\text{Long}\\right)\n",
      "\\end{align}\n",
      "\n",
      "This transformation takes data from a line segment to a circular ring. We then need to find the mean of each of these values, $\\overline{\\zeta}$ and $\\overline{\\xi}$, and find the angle. Because `arctan2` preserves the sign of the inputs, it gives us the proper angle subtended by these two values in the range $[-\\pi,\\pi]$, which can easily be converted to degrees."
     ]
    },
    {
     "cell_type": "code",
     "collapsed": false,
     "input": [
      "# Transformation functions and tests to ensure they work\n",
      "def zeta(lon):\n",
      "    return np.sin(np.deg2rad(lon))\n",
      "\n",
      "def xi(lon):\n",
      "    return np.cos(np.deg2rad(lon))\n",
      "\n",
      "def com_longitude(lon_zeta,lon_xi):\n",
      "    return np.rad2deg(np.arctan2(lon_zeta,lon_xi))\n",
      "\n",
      "def test():\n",
      "    assert abs(trans_lon_1(90.) - 1.0) < 1.0e-5\n",
      "    assert abs(trans_lon_1(45.) - 1.0 / np.sqrt(2.)) < 1.0e-5\n",
      "    assert abs(trans_lon_2(90.) - 0.0) < 1.0e-5\n",
      "    assert abs(trans_lon_1(45.) - trans_lon_2(45.)) < 1.0e-5\n",
      "    assert abs(find_trans_com(1.0,1.0) - 45.) < 1.0e-5\n",
      "    \n",
      "test()"
     ],
     "language": "python",
     "metadata": {},
     "outputs": [],
     "prompt_number": 236
    },
    {
     "cell_type": "code",
     "collapsed": false,
     "input": [
      "# Transform coordinate system to calculate center of \"mass\" of longtiude (since it has periodic boundary conditions)\n",
      "eq_month[\"lon_zeta\"] = zeta(eq_month[\"longitude\"])\n",
      "eq_month[\"lon_xi\"] = xi(eq_month[\"longitude\"])\n",
      "\n",
      "# Calculate mean of transformed coordinates\n",
      "com_lon_1 = eq_month[\"lon_zeta\"].mean()\n",
      "com_lon_2 = eq_month[\"lon_xi\"].mean()\n",
      "\n",
      "# Calculate center of \"mass\" of earthquake activity\n",
      "com_lon = find_trans_com(com_lon_1,com_lon_2)\n",
      "com_lat = eq_month[\"latitude\"].mean()\n",
      "\n",
      "# Find max, min, std error of mean of latitude\n",
      "lat_max = eq_month.latitude.max()\n",
      "lat_min = eq_month.latitude.min()\n",
      "lat_std = eq_month.latitude.std() / np.sqrt(len(eq_month.longitude))\n",
      "\n",
      "# Find max, min, std error of mean of longitude\n",
      "lon_max = eq_month.longitude.max()\n",
      "lon_min = eq_month.longitude.min()\n",
      "lon_std = eq_month.longitude.std() / np.sqrt(len(eq_month.longitude))\n",
      "\n",
      "print \"Center of data: (Lon: %f, Lat: %f)\" % (com_lon, com_lat)\n",
      "print \"Longitude range: (%f, %f), with 95%% of data in (%f,%f)\" % (lon_min, lon_max, com_lon - 2. * lon_std, com_lon + 2. * lon_std)\n",
      "print \"Latitude range: (%f, %f), with 95%% of data in (%f,%f)\" % (lat_min, lat_max, com_lat-lat_std,com_lat+lat_std)"
     ],
     "language": "python",
     "metadata": {},
     "outputs": [
      {
       "output_type": "stream",
       "stream": "stdout",
       "text": [
        "Center of data: (Lon: -129.120199, Lat: 35.917512)\n",
        "Longitude range: (-179.422900, 166.003500), with 95% of data in (-139.641369,-118.599028)\n",
        "Latitude range: (-46.342300, 65.147900), with 95% of data in (34.421951,37.413073)\n"
       ]
      }
     ],
     "prompt_number": 238
    },
    {
     "cell_type": "code",
     "collapsed": false,
     "input": [
      "plt.hist(eq_month.longitude,weights=eq_month.mag);\n",
      "xlabel(\"Number of recorded earthquakes\")\n",
      "ylabel(\"Latitude earthquake occurred at\")\n",
      "plt.figure();\n",
      "plt.hist(eq_month.latitude,weights=eq_month.mag);\n",
      "xlabel(\"Number of recorded earthquakes\")\n",
      "ylabel(\"Longitude earthquake occurred at\")"
     ],
     "language": "python",
     "metadata": {},
     "outputs": [
      {
       "metadata": {},
       "output_type": "pyout",
       "prompt_number": 173,
       "text": [
        "<matplotlib.text.Text at 0x1137813d0>"
       ]
      },
      {
       "metadata": {},
       "output_type": "display_data",
       "png": "[encoded data removed]",
       "text": [
        "<matplotlib.figure.Figure at 0x1132d33d0>"
       ]
      },
      {
       "metadata": {},
       "output_type": "display_data",
       "png": "[encoded data removed]",
       "text": [
        "<matplotlib.figure.Figure at 0x11318c290>"
       ]
      }
     ],
     "prompt_number": 173
    },
    {
     "cell_type": "code",
     "collapsed": false,
     "input": [
      "from matplotlib.colors import LogNorm\n",
      "\n",
      "ax = plt.hist2d(eq_month.longitude,eq_month.latitude,bins=[40,20],norm=LogNorm());\n",
      "axes().set_aspect('equal', 'datalim')\n",
      "\n",
      "xlabel(\"Longitude\")\n",
      "ylabel(\"Latitude\")\n",
      "cbar = plt.colorbar()\n",
      "cbar.ax.set_ylabel(\"Number of earthquakes\")"
     ],
     "language": "python",
     "metadata": {},
     "outputs": [
      {
       "metadata": {},
       "output_type": "pyout",
       "prompt_number": 206,
       "text": [
        "<matplotlib.text.Text at 0x113cd2790>"
       ]
      },
      {
       "metadata": {},
       "output_type": "display_data",
       "png": "[encoded data removed]",
       "text": [
        "<matplotlib.figure.Figure at 0x113aa0850>"
       ]
      }
     ],
     "prompt_number": 206
    },
    {
     "cell_type": "markdown",
     "metadata": {},
     "source": [
      "At a specific zoom level, how many lat/lon degrees are in a tile?\n",
      "\n",
      "At zoom 0, one tile covers the earth.\n",
      "+ Long: 360 degrees / 256 pixels $\\approx$ 1.40625 degrees / pixels or 0.711 pixels / degree\n",
      "+ Lat: (2 * 85.0511) degrees / 256 pixels\n",
      "At zoom 1, four tiles cover the earth\n",
      "+ Long: 360 degrees / (512 pixels) $\\approx$ ...\n",
      "+ Lat: (2 * 85.0511) degrees / (512 pixels) $\\approx$ ...\n",
      "\n",
      "In general, at zoom $n$, there are\n",
      "\n",
      "$$\n",
      "\\frac{360^{\\circ}}{256\\,\\text{px}}\\cdot \\frac{1}{2^{n}}\n",
      "$$\n",
      "\n",
      "degrees per pixel, or \n",
      "\n",
      "$$\n",
      "\\frac{256\\,\\text{px}}{360^{\\circ}}\\cdot 2^{n}\n",
      "$$\n",
      "\n",
      "This implies that\n",
      "\n",
      "$$\n",
      "\\text{1 tile} = \\frac{360^{\\circ}}{2^{n}}\\,\\,\\text{longitude}$$\n",
      "\n",
      "longitude, and \n",
      "\n",
      "$$\\text{1 tile} = \\frac{85.0511^{\\circ}}{2^{n-1}}\\,\\,\\text{latitude}$$\n"
     ]
    },
    {
     "cell_type": "code",
     "collapsed": false,
     "input": [
      "def lat_width(zoom):\n",
      "    return 85.0511 / 2**(zoom-1)\n",
      "\n",
      "def lon_width(zoom):\n",
      "    return 360. / 2**zoom\n",
      "\n",
      "z = 7\n",
      "\n",
      "print \"At zoom %d, a tile will be %f by %f degrees squared.\" % (z, lon_width(z), lat_width(z))"
     ],
     "language": "python",
     "metadata": {},
     "outputs": [
      {
       "output_type": "stream",
       "stream": "stdout",
       "text": [
        "At zoom 7, a tile will be 2.812500 by 1.328923 degrees squared.\n"
       ]
      }
     ],
     "prompt_number": 175
    },
    {
     "cell_type": "markdown",
     "metadata": {},
     "source": [
      "Given a range in latitude or longitude, what is the zoom level that captures the features? Assumtions have to be made for screen size. In this case, assume that width is 1024 px and height is 768 pixels. This corresponds to four tiles for longitude and three for latitude.\n",
      "\n",
      "Solving for the zoom given the number of longitude tiles, $\\lambda$:\n",
      "\n",
      "$$\n",
      "    \\frac{\\lambda}{4} = \\frac{360^{\\circ}}{2^{n}}\n",
      "$$\n",
      "\n",
      "for $n$ gives,\n",
      "\n",
      "$$\n",
      "    n = \\lfloor\\ln\\left(\\frac{360^{\\circ}}{\\lambda}\\right) + 2 \\rfloor\n",
      "$$"
     ]
    },
    {
     "cell_type": "code",
     "collapsed": false,
     "input": [
      "lon_range = lon_max - lon_min\n",
      "print lon_range"
     ],
     "language": "python",
     "metadata": {},
     "outputs": [
      {
       "output_type": "stream",
       "stream": "stdout",
       "text": [
        "345.4264\n"
       ]
      }
     ],
     "prompt_number": 176
    },
    {
     "cell_type": "code",
     "collapsed": false,
     "input": [
      "def find_zoom_lon(r,n=4):\n",
      "    return np.floor(np.log2(360. * n / r))\n",
      "\n",
      "def find_zoom_lat(r,n=3):\n",
      "    return np.floor(np.log2(85.0511 * n / r) + 1.)"
     ],
     "language": "python",
     "metadata": {},
     "outputs": [],
     "prompt_number": 177
    },
    {
     "cell_type": "code",
     "collapsed": false,
     "input": [
      "print find_zoom_lon(80)"
     ],
     "language": "python",
     "metadata": {},
     "outputs": [
      {
       "output_type": "stream",
       "stream": "stdout",
       "text": [
        "4.0\n"
       ]
      }
     ],
     "prompt_number": 178
    },
    {
     "cell_type": "markdown",
     "metadata": {},
     "source": [
      "To test this out, you can make a page with a map set to the dimensions quoted. And then use JavaScript to do the calculations to figure out the zoom given the data set."
     ]
    },
    {
     "cell_type": "code",
     "collapsed": false,
     "input": [
      "for i in range(1,11):\n",
      "    print 36*i,'\\t',find_zoom_lon(36*i),find_zoom_lat(9*i)"
     ],
     "language": "python",
     "metadata": {},
     "outputs": [
      {
       "output_type": "stream",
       "stream": "stdout",
       "text": [
        "36 \t5.0 5.0\n",
        "72 \t4.0 4.0\n",
        "108 \t3.0 4.0\n",
        "144 \t3.0 3.0\n",
        "180 \t3.0 3.0\n",
        "216 \t2.0 3.0\n",
        "252 \t2.0 3.0\n",
        "288 \t2.0 2.0\n",
        "324 \t2.0 2.0\n",
        "360 \t2.0 2.0\n"
       ]
      }
     ],
     "prompt_number": 179
    },
    {
     "cell_type": "markdown",
     "metadata": {},
     "source": [
      "Next we can find the zoom based on a weight long/lat. We can weight by any numerical column by finding it's normalized value. Looking at the values below, magnitude is an obvious choice."
     ]
    },
    {
     "cell_type": "code",
     "collapsed": false,
     "input": [
      "w = eq_month.mag / eq_month.mag.max()\n",
      "w.head()"
     ],
     "language": "python",
     "metadata": {},
     "outputs": [
      {
       "metadata": {},
       "output_type": "pyout",
       "prompt_number": 181,
       "text": [
        "0    0.105263\n",
        "1    0.314035\n",
        "2    0.224561\n",
        "3    0.385965\n",
        "4    0.461404\n",
        "Name: mag, dtype: float64"
       ]
      }
     ],
     "prompt_number": 181
    },
    {
     "cell_type": "markdown",
     "metadata": {},
     "source": [
      "Finding the weighted center for latitude is simply:\n",
      "\n",
      "$$\n",
      "\\text{lat}_w = \\frac{\\sum_{i=0}^{N}w_i \\cdot \\text{lat}_{i}}{\\sum_{i=0}^{N} w_{i}}\n",
      "$$\n",
      "\n",
      "Finding weighted longitude is similar to finding the center of \"mass\" as above. Instead of weighting the Longitude directly, the transformed value will be weighted:\n",
      "\n",
      "$$\n",
      "\\zeta_w = \\frac{\\sum_{i=0}^{N}w_i \\cdot \\zeta_i}{\\sum_{i=0}^{N}w_i} \\\\\n",
      "\\xi_w = \\frac{\\sum_{i=0}^{N}w_i \\cdot \\xi_i}{\\sum_{i=0}^{N}w_i} \\\\\n",
      "\\text{long}_{w} = \\text{atan2}\\left(\\zeta_w,\\xi_w\\right)\n",
      "$$\n",
      "\n",
      "Here I am using a normalized weight: $w_i = \\frac{x_{i}}{\\text{max}(x)}$"
     ]
    },
    {
     "cell_type": "code",
     "collapsed": false,
     "input": [
      "w_zeta = np.dot(w,eq_month.lon_zeta) / sum(w)\n",
      "w_xi = np.dot(w,eq_month.lon_xi) / sum(w)\n",
      "w_lon = com_longitude(w_zeta,w_xi)\n",
      "\n",
      "w_lat = np.dot(eq_month.latitude,eq_month.mag) / sum(eq_month.mag)\n",
      "\n",
      "print \"Weighted Lat: %0.3f, Non-weighted Lat: %0.3f (Diff: %0.3f)\" % (w_lat,com_lat,com_lat-w_lat)\n",
      "print \"Weighted Lon: %0.3f, Non-weighted Lon: %0.3f (Diff: %0.3f)\" % (w_lon,com_lon,com_lon-w_lon)"
     ],
     "language": "python",
     "metadata": {},
     "outputs": [
      {
       "output_type": "stream",
       "stream": "stdout",
       "text": [
        "Weighted Lat: 28.094, Non-weighted Lat: 35.918 (Diff: 7.823)\n",
        "Weighted Lon: -135.310, Non-weighted Lon: -129.120 (Diff: 6.190)\n"
       ]
      }
     ],
     "prompt_number": 255
    },
    {
     "cell_type": "code",
     "collapsed": false,
     "input": [
      "hist, bin_edges, patches = plt.hist(eq_month.longitude,weights=eq_month.mag);\n",
      "print hist, bin_edges\n",
      "b2 = (bin_edges[:10] + bin_edges[1:]) / 2.\n",
      "N = len(hist)\n",
      "bottom = 8\n",
      "max_height = 4\n",
      "\n",
      "theta = b2\n",
      "radii = hist\n",
      "width = (2*np.pi) / N\n",
      "\n",
      "ax = plt.subplot(111, polar=True)\n",
      "bars = ax.bar(theta, radii, width=width, bottom=bottom)\n",
      "\n",
      "# Use custom colors and opacity\n",
      "for r, bar in zip(radii, bars):\n",
      "    bar.set_facecolor(plt.cm.jet(r / 10.))\n",
      "    bar.set_alpha(0.8)\n",
      "\n",
      "plt.show()"
     ],
     "language": "python",
     "metadata": {},
     "outputs": [
      {
       "output_type": "stream",
       "stream": "stdout",
       "text": [
        "[  98.    152.82   35.8    12.5    14.6     4.8     0.      4.7     0.\n",
        "   59.3 ] [-179.4229  -144.88026 -110.33762  -75.79498  -41.25234   -6.7097\n",
        "   27.83294   62.37558   96.91822  131.46086  166.0035 ]\n"
       ]
      },
      {
       "metadata": {},
       "output_type": "display_data",
       "png": "[encoded data removed]",
       "text": [
        "<matplotlib.figure.Figure at 0x114d37590>"
       ]
      }
     ],
     "prompt_number": 225
    }
   ],
   "metadata": {}
  }
 ]
}