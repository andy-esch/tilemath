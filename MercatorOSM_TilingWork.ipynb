{
 "metadata": {
  "name": "",
  "signature": "sha256:93a6df73312ef2502e46b8da23acba03d4ec5c5ae10222249e0c91fb6a09a70d"
 },
 "nbformat": 3,
 "nbformat_minor": 0,
 "worksheets": [
  {
   "cells": [
    {
     "cell_type": "code",
     "collapsed": false,
     "input": [
      "import math\n",
      "def deg2num(lat_deg, lon_deg, zoom):\n",
      "    lat_rad = math.radians(lat_deg)\n",
      "    n = 2.0**zoom\n",
      "    xtile = int((lon_deg + 180.0) / 360.0 * n)\n",
      "    ytile = int((1.0 - math.log(math.tan(lat_rad) + (1 / math.cos(lat_rad))) / math.pi) / 2.0 * n)\n",
      "    return xtile, ytile"
     ],
     "language": "python",
     "metadata": {},
     "outputs": [],
     "prompt_number": 1
    },
    {
     "cell_type": "code",
     "collapsed": false,
     "input": [
      "print deg2num(40.7141999,-73.9572702,19)"
     ],
     "language": "python",
     "metadata": {},
     "outputs": [
      {
       "output_type": "stream",
       "stream": "stdout",
       "text": [
        "(154435, 197119)\n"
       ]
      }
     ],
     "prompt_number": 2
    },
    {
     "cell_type": "code",
     "collapsed": false,
     "input": [
      "from IPython.display import Image\n",
      "def osm_tile(lat,lon,zoom):\n",
      "    \"\"\"\n",
      "    takes in lat/lon/zoom, outputs url to correct osm tile\n",
      "    \"\"\"\n",
      "    x, y = deg2num(lat,lon,zoom);\n",
      "    osm_url = \"http://b.tile.openstreetmap.org/%d/%d/%d.png\" % (zoom, x, y)\n",
      "    return osm_url\n",
      "\n",
      "cdb_lat = 40.7141999\n",
      "cdb_lon = -73.9572702\n",
      "\n",
      "Image(url=osm_tile(cdb_lat,cdb_lon,19))"
     ],
     "language": "python",
     "metadata": {},
     "outputs": [
      {
       "html": [
        "<img src=\"http://b.tile.openstreetmap.org/19/154435/197119.png\"/>"
       ],
       "metadata": {},
       "output_type": "pyout",
       "prompt_number": 4,
       "text": [
        "<IPython.core.display.Image at 0x10e707310>"
       ]
      }
     ],
     "prompt_number": 4
    },
    {
     "cell_type": "code",
     "collapsed": false,
     "input": [
      "print 38 + 14. / 60. + 43. / 3600.\n",
      "print -122 + 16. / 60. + 49. / 3600."
     ],
     "language": "python",
     "metadata": {},
     "outputs": [
      {
       "output_type": "stream",
       "stream": "stdout",
       "text": [
        "38.2452777778\n",
        "-121.719722222\n"
       ]
      }
     ],
     "prompt_number": 5
    },
    {
     "cell_type": "code",
     "collapsed": false,
     "input": [],
     "language": "python",
     "metadata": {},
     "outputs": []
    }
   ],
   "metadata": {}
  }
 ]
}