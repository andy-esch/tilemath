{
 "metadata": {
  "name": "",
  "signature": "sha256:5a867f1f02f54b92f31779c71ea3e18af7fab9d81a792848e73c9620d8609c2a"
 },
 "nbformat": 3,
 "nbformat_minor": 0,
 "worksheets": [
  {
   "cells": [
    {
     "cell_type": "code",
     "collapsed": false,
     "input": [
      "import math\n",
      "def deg2num(lat_deg, lon_deg, zoom=19):\n",
      "    \"\"\"\n",
      "        Given a lat (-85.011,+85.011) and lon (-179.99,179.99), show the x,y values coordinate for the tile\n",
      "    \"\"\"\n",
      "    lat_rad = math.radians(lat_deg)\n",
      "    n = 2.0**zoom\n",
      "    xtile = int((lon_deg + 180.0) / 360.0 * n)\n",
      "    ytile = int((1.0 - math.log(math.tan(lat_rad) + (1 / math.cos(lat_rad))) / math.pi) / 2.0 * n)\n",
      "    return xtile, ytile"
     ],
     "language": "python",
     "metadata": {},
     "outputs": [],
     "prompt_number": 14
    },
    {
     "cell_type": "code",
     "collapsed": false,
     "input": [
      "print deg2num(0,-179.999)"
     ],
     "language": "python",
     "metadata": {},
     "outputs": [
      {
       "output_type": "stream",
       "stream": "stdout",
       "text": [
        "(1, 262144)\n"
       ]
      }
     ],
     "prompt_number": 15
    },
    {
     "cell_type": "code",
     "collapsed": false,
     "input": [
      "print deg2num(40.7141999,-73.9572702,19)"
     ],
     "language": "python",
     "metadata": {},
     "outputs": [
      {
       "output_type": "stream",
       "stream": "stdout",
       "text": [
        "(154435, 197119)\n"
       ]
      }
     ],
     "prompt_number": 2
    },
    {
     "cell_type": "code",
     "collapsed": false,
     "input": [
      "from IPython.display import Image\n",
      "def osm_tile(lat,lon,zoom,shiftx=0,shifty=0):\n",
      "    \"\"\"\n",
      "    takes in lat/lon/zoom, outputs url to correct osm tile\n",
      "    \"\"\"\n",
      "    x, y = deg2num(lat,lon,zoom);\n",
      "    osm_url = \"http://b.tile.openstreetmap.org/%d/%d/%d.png\" % (zoom, x+shiftx, y+shifty)\n",
      "    return osm_url\n",
      "\n",
      "cdb_lat = 40.7141999\n",
      "cdb_lon = -73.9572702\n",
      "\n",
      "Image(url=osm_tile(cdb_lat,cdb_lon,19))\n",
      "Image(url=osm_tile(cdb_lat,cdb_lon,19,1))\n"
     ],
     "language": "python",
     "metadata": {},
     "outputs": [
      {
       "html": [
        "<img src=\"http://b.tile.openstreetmap.org/19/154436/197119.png\"/>"
       ],
       "metadata": {},
       "output_type": "pyout",
       "prompt_number": 19,
       "text": [
        "<IPython.core.display.Image at 0x10e707d90>"
       ]
      }
     ],
     "prompt_number": 19
    },
    {
     "cell_type": "code",
     "collapsed": false,
     "input": [
      "print 38 + 14. / 60. + 43. / 3600.\n",
      "print -122 + 16. / 60. + 49. / 3600."
     ],
     "language": "python",
     "metadata": {},
     "outputs": [
      {
       "output_type": "stream",
       "stream": "stdout",
       "text": [
        "38.2452777778\n",
        "-121.719722222\n"
       ]
      }
     ],
     "prompt_number": 5
    },
    {
     "cell_type": "code",
     "collapsed": false,
     "input": [
      "from IPython.display import HTML\n",
      "s = \"\"\"<table style=\"border-style: none;\">\n",
      "<tr style=\"border-style: none;\">\n",
      "<td style=\"padding: 0; margin: 0; border-style: none;\"><img src='%s' /></td>\n",
      "<td style=\"padding: 0; margin: 0; border-style: none;\"><img src='%s' /></td>\n",
      "</tr>\n",
      "<tr style=\"border-style: none;\">\n",
      "<td style=\"padding: 0; margin: 0; border-style: none;\"><img src='%s' /></td>\n",
      "<td style=\"padding: 0; margin: 0; border-style: none;\"><img src='%s' /></td>\n",
      "</tr>\n",
      "</table>\"\"\" % (osm_tile(cdb_lat,cdb_lon,19,0,0), osm_tile(cdb_lat,cdb_lon,19,1,0),osm_tile(cdb_lat,cdb_lon,19,1,1),osm_tile(cdb_lat,cdb_lon,19,0,1))\n",
      "\n",
      "h = HTML(s); h"
     ],
     "language": "python",
     "metadata": {},
     "outputs": [
      {
       "html": [
        "<table style=\"border-style: none;\">\n",
        "<tr style=\"border-style: none;\">\n",
        "<td style=\"padding: 0; margin: 0; border-style: none;\"><img src='http://b.tile.openstreetmap.org/19/154435/197119.png' /></td>\n",
        "<td style=\"padding: 0; margin: 0; border-style: none;\"><img src='http://b.tile.openstreetmap.org/19/154436/197119.png' /></td>\n",
        "</tr>\n",
        "</table>"
       ],
       "metadata": {},
       "output_type": "pyout",
       "prompt_number": 34,
       "text": [
        "<IPython.core.display.HTML at 0x10e707c10>"
       ]
      }
     ],
     "prompt_number": 34
    },
    {
     "cell_type": "code",
     "collapsed": false,
     "input": [],
     "language": "python",
     "metadata": {},
     "outputs": []
    }
   ],
   "metadata": {}
  }
 ]
}