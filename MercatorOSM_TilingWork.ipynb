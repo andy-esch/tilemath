{
 "metadata": {
  "name": "",
  "signature": "sha256:ee2937035a5affe09283b4d30dabcaeac34ab65ad52efbe13bd32c090d6c3a00"
 },
 "nbformat": 3,
 "nbformat_minor": 0,
 "worksheets": [
  {
   "cells": [
    {
     "cell_type": "code",
     "collapsed": false,
     "input": [
      "import math\n",
      "def deg2num(lat_deg, lon_deg, zoom=19):\n",
      "    \"\"\"\n",
      "        Input:\n",
      "            Latitude (-85.011,+85.011) \n",
      "            Longitude (-179.99,179.99)\n",
      "        Return:\n",
      "            x and y tile numbers served by server.com/x/y/z.png\n",
      "    \"\"\"\n",
      "    n = 2.0**zoom\n",
      "    lat_rad = math.radians(lat_deg)\n",
      "    xtile = int((lon_deg + 180.0) / 360.0 * n)\n",
      "    ytile = int((1.0 - math.log(math.tan(lat_rad) + (1 / math.cos(lat_rad))) / math.pi) / 2.0 * n)\n",
      "    return xtile, ytile\n",
      "\n",
      "def num2deg(xtile, ytile, zoom=19):\n",
      "    \"\"\"\n",
      "        Input: \n",
      "            x and y tile numbers and zoom\n",
      "        Return:\n",
      "            Latitude and longitude of that tile\n",
      "    \"\"\"\n",
      "    n = 2.0**zoom\n",
      "    lon_deg = xtile / n * 360.0 - 180.0\n",
      "    lat_rad = math.atan(math.sinh(math.pi * (1. - 2. * ytile / n)))\n",
      "    lat_deg = lat_rad * 180.0 / math.pi\n",
      "    return lon_deg, lat_deg"
     ],
     "language": "python",
     "metadata": {},
     "outputs": [],
     "prompt_number": 51
    },
    {
     "cell_type": "code",
     "collapsed": false,
     "input": [
      "print deg2num(0.0,-179.999)\n",
      "print num2deg(1,262144,19)"
     ],
     "language": "python",
     "metadata": {},
     "outputs": [
      {
       "output_type": "stream",
       "stream": "stdout",
       "text": [
        "(1, 262144)\n",
        "(-179.9993133544922, 0.0)\n"
       ]
      }
     ],
     "prompt_number": 52
    },
    {
     "cell_type": "code",
     "collapsed": false,
     "input": [
      "print deg2num(40.7141999,-73.9572702,19)"
     ],
     "language": "python",
     "metadata": {},
     "outputs": [
      {
       "output_type": "stream",
       "stream": "stdout",
       "text": [
        "(154435, 197119)\n"
       ]
      }
     ],
     "prompt_number": 53
    },
    {
     "cell_type": "code",
     "collapsed": false,
     "input": [
      "from IPython.display import Image\n",
      "def osm_tile(lat,lon,zoom,shiftx=0,shifty=0):\n",
      "    \"\"\"\n",
      "    takes in lat/lon/zoom, outputs url to correct osm tile\n",
      "    \"\"\"\n",
      "    x, y = deg2num(lat,lon,zoom);\n",
      "    osm_url = \"http://b.tile.openstreetmap.org/%d/%d/%d.png\" % (zoom, x+shiftx, y+shifty)\n",
      "    return osm_url\n",
      "\n",
      "cdb_lat = 40.7141999\n",
      "cdb_lon = -73.9572702\n",
      "\n",
      "Image(url=osm_tile(cdb_lat,cdb_lon,19))\n",
      "Image(url=osm_tile(cdb_lat,cdb_lon,19,1))\n"
     ],
     "language": "python",
     "metadata": {},
     "outputs": [
      {
       "html": [
        "<img src=\"http://b.tile.openstreetmap.org/19/154436/197119.png\"/>"
       ],
       "metadata": {},
       "output_type": "pyout",
       "prompt_number": 54,
       "text": [
        "<IPython.core.display.Image at 0x10e21d590>"
       ]
      }
     ],
     "prompt_number": 54
    },
    {
     "cell_type": "code",
     "collapsed": false,
     "input": [
      "print 38 + 14. / 60. + 43. / 3600.\n",
      "print -122 + 16. / 60. + 49. / 3600."
     ],
     "language": "python",
     "metadata": {},
     "outputs": [
      {
       "output_type": "stream",
       "stream": "stdout",
       "text": [
        "38.2452777778\n",
        "-121.719722222\n"
       ]
      }
     ],
     "prompt_number": 55
    },
    {
     "cell_type": "code",
     "collapsed": false,
     "input": [
      "from IPython.display import HTML\n",
      "s = \"\"\"<table style=\"border-style: none;\">\n",
      "<tr style=\"border-style: none;\">\n",
      "<td style=\"padding: 0; margin: 0; border-style: none;\"><img src='%s' /></td>\n",
      "<td style=\"padding: 0; margin: 0; border-style: none;\"><img src='%s' /></td>\n",
      "</tr>\n",
      "<tr style=\"border-style: none;\">\n",
      "<td style=\"padding: 0; margin: 0; border-style: none;\"><img src='%s' /></td>\n",
      "<td style=\"padding: 0; margin: 0; border-style: none;\"><img src='%s' /></td>\n",
      "</tr>\n",
      "</table>\"\"\" % (osm_tile(cdb_lat,cdb_lon,19,0,0), osm_tile(cdb_lat,cdb_lon,19,1,0),osm_tile(cdb_lat,cdb_lon,19,0,1),osm_tile(cdb_lat,cdb_lon,19,1,1))\n",
      "\n",
      "h = HTML(s); h"
     ],
     "language": "python",
     "metadata": {},
     "outputs": [
      {
       "html": [
        "<table style=\"border-style: none;\">\n",
        "<tr style=\"border-style: none;\">\n",
        "<td style=\"padding: 0; margin: 0; border-style: none;\"><img src='http://b.tile.openstreetmap.org/19/154435/197119.png' /></td>\n",
        "<td style=\"padding: 0; margin: 0; border-style: none;\"><img src='http://b.tile.openstreetmap.org/19/154436/197119.png' /></td>\n",
        "</tr>\n",
        "<tr style=\"border-style: none;\">\n",
        "<td style=\"padding: 0; margin: 0; border-style: none;\"><img src='http://b.tile.openstreetmap.org/19/154435/197120.png' /></td>\n",
        "<td style=\"padding: 0; margin: 0; border-style: none;\"><img src='http://b.tile.openstreetmap.org/19/154436/197120.png' /></td>\n",
        "</tr>\n",
        "</table>"
       ],
       "metadata": {},
       "output_type": "pyout",
       "prompt_number": 56,
       "text": [
        "<IPython.core.display.HTML at 0x10e22fc50>"
       ]
      }
     ],
     "prompt_number": 56
    },
    {
     "cell_type": "code",
     "collapsed": false,
     "input": [],
     "language": "python",
     "metadata": {},
     "outputs": []
    }
   ],
   "metadata": {}
  }
 ]
}