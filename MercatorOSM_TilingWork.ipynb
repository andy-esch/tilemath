{
 "metadata": {
  "name": "",
  "signature": "sha256:cc6da9af2e3a0948228d32b0ef03f90e997f0264a4e084e81aa8e9d94336c976"
 },
 "nbformat": 3,
 "nbformat_minor": 0,
 "worksheets": [
  {
   "cells": [
    {
     "cell_type": "code",
     "collapsed": false,
     "input": [
      "import math\n",
      "def deg2num(lat_deg, lon_deg, zoom):\n",
      "    lat_rad = math.radians(lat_deg)\n",
      "    n = 2.0**zoom\n",
      "    xtile = int((lon_deg + 180.0) / 360.0 * n)\n",
      "    ytile = int((1.0 - math.log(math.tan(lat_rad) + (1 / math.cos(lat_rad))) / math.pi) / 2.0 * n)\n",
      "    return xtile, ytile"
     ],
     "language": "python",
     "metadata": {},
     "outputs": [],
     "prompt_number": 14
    },
    {
     "cell_type": "code",
     "collapsed": false,
     "input": [
      "print deg2num(40.7141999,-73.9572702,19)"
     ],
     "language": "python",
     "metadata": {},
     "outputs": [
      {
       "output_type": "stream",
       "stream": "stdout",
       "text": [
        "(154435, 197119)\n"
       ]
      }
     ],
     "prompt_number": 16
    },
    {
     "cell_type": "code",
     "collapsed": false,
     "input": [
      "from IPython.display import Image\n",
      "def osm_tile(lat,lon,zoom):\n",
      "    \"\"\"\n",
      "    takes in lat/lon/zoom, outputs url to correct osm tile\n",
      "    \"\"\"\n",
      "    x, y = deg2num(lat,lon,zoom);\n",
      "    osm_url = \"http://b.tile.openstreetmap.org/%d/%d/%d.png\" % (zoom, x, y)\n",
      "    return osm_url\n",
      "\n",
      "Image(url=osm_tile(40.7141999,-73.9572702,19))"
     ],
     "language": "python",
     "metadata": {},
     "outputs": [
      {
       "html": [
        "<img src=\"http://b.tile.openstreetmap.org/19/154435/197119.png\"/>"
       ],
       "metadata": {},
       "output_type": "pyout",
       "prompt_number": 24,
       "text": [
        "<IPython.core.display.Image at 0x1117ee050>"
       ]
      }
     ],
     "prompt_number": 24
    },
    {
     "cell_type": "code",
     "collapsed": false,
     "input": [
      "print 38 + 14. / 60. + 43. / 3600.\n",
      "print -122 + 16. / 60. + 49. / 3600."
     ],
     "language": "python",
     "metadata": {},
     "outputs": [
      {
       "output_type": "stream",
       "stream": "stdout",
       "text": [
        "38.2452777778\n",
        "-121.719722222\n"
       ]
      }
     ],
     "prompt_number": 25
    },
    {
     "cell_type": "code",
     "collapsed": false,
     "input": [],
     "language": "python",
     "metadata": {},
     "outputs": []
    }
   ],
   "metadata": {}
  }
 ]
}